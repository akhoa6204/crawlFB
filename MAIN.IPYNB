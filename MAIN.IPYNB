{
 "cells": [
  {
   "cell_type": "code",
   "execution_count": null,
   "metadata": {},
   "outputs": [
    {
     "ename": "ImportError",
     "evalue": "cannot import name 'IndexError' from 'selenium.common.exceptions' (C:\\Users\\Asus\\AppData\\Roaming\\Python\\Python311\\site-packages\\selenium\\common\\exceptions.py)",
     "output_type": "error",
     "traceback": [
      "\u001b[1;31m---------------------------------------------------------------------------\u001b[0m",
      "\u001b[1;31mImportError\u001b[0m                               Traceback (most recent call last)",
      "Cell \u001b[1;32mIn[25], line 7\u001b[0m\n\u001b[0;32m      5\u001b[0m \u001b[38;5;28;01mfrom\u001b[39;00m \u001b[38;5;21;01mselenium\u001b[39;00m\u001b[38;5;21;01m.\u001b[39;00m\u001b[38;5;21;01mwebdriver\u001b[39;00m\u001b[38;5;21;01m.\u001b[39;00m\u001b[38;5;21;01msupport\u001b[39;00m\u001b[38;5;21;01m.\u001b[39;00m\u001b[38;5;21;01mui\u001b[39;00m \u001b[38;5;28;01mimport\u001b[39;00m WebDriverWait\n\u001b[0;32m      6\u001b[0m \u001b[38;5;28;01mfrom\u001b[39;00m \u001b[38;5;21;01mselenium\u001b[39;00m\u001b[38;5;21;01m.\u001b[39;00m\u001b[38;5;21;01mwebdriver\u001b[39;00m\u001b[38;5;21;01m.\u001b[39;00m\u001b[38;5;21;01msupport\u001b[39;00m \u001b[38;5;28;01mimport\u001b[39;00m expected_conditions \u001b[38;5;28;01mas\u001b[39;00m EC\n\u001b[1;32m----> 7\u001b[0m \u001b[38;5;28;01mfrom\u001b[39;00m \u001b[38;5;21;01mselenium\u001b[39;00m\u001b[38;5;21;01m.\u001b[39;00m\u001b[38;5;21;01mcommon\u001b[39;00m\u001b[38;5;21;01m.\u001b[39;00m\u001b[38;5;21;01mexceptions\u001b[39;00m \u001b[38;5;28;01mimport\u001b[39;00m TimeoutException, NoSuchElementException, ElementClickInterceptedException,\u001b[38;5;167;01mIndexError\u001b[39;00m\n\u001b[0;32m      8\u001b[0m \u001b[38;5;28;01mimport\u001b[39;00m \u001b[38;5;21;01mpandas\u001b[39;00m \u001b[38;5;28;01mas\u001b[39;00m \u001b[38;5;21;01mpd\u001b[39;00m\n\u001b[0;32m      9\u001b[0m \u001b[38;5;28;01mfrom\u001b[39;00m \u001b[38;5;21;01mtime\u001b[39;00m \u001b[38;5;28;01mimport\u001b[39;00m sleep\n",
      "\u001b[1;31mImportError\u001b[0m: cannot import name 'IndexError' from 'selenium.common.exceptions' (C:\\Users\\Asus\\AppData\\Roaming\\Python\\Python311\\site-packages\\selenium\\common\\exceptions.py)"
     ]
    }
   ],
   "source": [
    "from selenium import webdriver\n",
    "from selenium.webdriver.common.by import By\n",
    "from selenium.webdriver.common.keys import Keys\n",
    "from selenium.webdriver.edge.options import Options\n",
    "from selenium.webdriver.support.ui import WebDriverWait\n",
    "from selenium.webdriver.support import expected_conditions as EC\n",
    "from selenium.common.exceptions import TimeoutException, NoSuchElementException, ElementClickInterceptedException\n",
    "import pandas as pd\n",
    "from time import sleep\n"
   ]
  },
  {
   "cell_type": "code",
   "execution_count": 2,
   "metadata": {},
   "outputs": [],
   "source": [
    "# Cấu hình tùy chọn cho Edge\n",
    "options = Options()\n",
    "options.add_argument(\"--start-maximized\")  # Mở ở chế độ toàn màn hình\n",
    "options.add_argument(\"--inprivate\")  # Chế độ ẩn danh (InPrivate mode)"
   ]
  },
  {
   "cell_type": "code",
   "execution_count": 4,
   "metadata": {},
   "outputs": [],
   "source": [
    "driver = webdriver.Edge(options=options)\n",
    "driver.get(\"https://www.facebook.com/groups/ued.confessions?locale=vi_VN\")\n",
    "username = driver.find_element(By.CSS_SELECTOR, '.x1egiwwb.x4l50q0 .xod5an3 input')\n",
    "password = driver.find_elements(By.CSS_SELECTOR, '.x1egiwwb.x4l50q0 .x1c436fg input')[0]\n",
    "login = driver.find_elements(By.CSS_SELECTOR, '.x1egiwwb.x4l50q0 .x1c436fg')[1]\n",
    "username.send_keys('khoalolriot@gmail.com')\n",
    "password.send_keys('Akhoa@6204')\n",
    "login.click()"
   ]
  },
  {
   "cell_type": "markdown",
   "metadata": {},
   "source": [
    "## Bỏ qua cái này "
   ]
  },
  {
   "cell_type": "code",
   "execution_count": null,
   "metadata": {},
   "outputs": [],
   "source": [
    "count = 0\n",
    "ele = '.html-div.xdj266r.x11i5rnm.xat24cr.x1mh8g0r.xexx8yu.x4uap5.x18d9i69.xkhd6sd'\n",
    "df = pd.DataFrame(columns=['linkPoster', 'name', 'time', 'content', 'content_img','status'])\n",
    "\n",
    "for index, post in enumerate(post_list):\n",
    "    try:\n",
    "        scroll_to_post(driver, post)\n",
    "        print(f\"Đã scroll tới bài đăng số {index + 1}:\")\n",
    "        \n",
    "        user_info = post.find_elements(By.CSS_SELECTOR, '.x1rg5ohu')\n",
    "        \n",
    "        user_link = post.find_elements(By.CSS_SELECTOR, '.xu06os2.x1ok221b a')[0].get_attribute('href')\n",
    "        \n",
    "        user_name = post.find_elements(By.CSS_SELECTOR, '.xu06os2.x1ok221b')[0].text\n",
    "        \n",
    "        time_post = post.find_elements(By.CSS_SELECTOR, '.xu06os2.x1ok221b')[1]\n",
    "\n",
    "        if time_post.text.strip() == '·': \n",
    "            time_link = time_post.find_element(By.CSS_SELECTOR, 'use').get_attribute('xlink:href')\n",
    "            time_post = driver.find_element(By.CSS_SELECTOR, f'text{time_link}').get_attribute('textContent')\n",
    "        else: \n",
    "            time_post = time_post.text.replace('·','').strip()\n",
    "            \n",
    "        content_post = post.find_element(By.CSS_SELECTOR, '[data-ad-rendering-role=\"message\"]')\n",
    "        try: \n",
    "            more_content = content_post.find_element(By.CSS_SELECTOR, 'div[role=\"button\"]').click()\n",
    "            content_post = post.find_element(By.CSS_SELECTOR, '[data-ad-rendering-role=\"message\"]').text\n",
    "        except NoSuchElementException: \n",
    "            content_post = post.find_element(By.CSS_SELECTOR, '[data-ad-rendering-role=\"message\"]').text\n",
    "        \n",
    "        # 1 ảnh\n",
    "        content_img_post = {}        \n",
    "        i = 0\n",
    "        try:     \n",
    "            content_img_post[i] = post.find_element(By.CSS_SELECTOR, '.x6s0dn4.x1jx94hy.x78zum5.xdt5ytf.x6ikm8r.x10wlt62.x1n2onr6.xh8yej3 img').get_attribute('src')\n",
    "            i += 1\n",
    "        except NoSuchElementException: \n",
    "            pass\n",
    "        \n",
    "        # nhiều ảnh\n",
    "        try:     \n",
    "            content_img_list = post.find_elements(By.CSS_SELECTOR, '.html-div.xdj266r.x11i5rnm.xat24cr.x1mh8g0r.xexx8yu.x4uap5.x18d9i69.xkhd6sd.x6ikm8r.x10wlt62 img')\n",
    "            for img in content_img_list:\n",
    "                content_img_post[i] = img.get_attribute('src')\n",
    "                i += 1 \n",
    "        except NoSuchElementException: \n",
    "            pass \n",
    "\n",
    "        post_data = {\n",
    "            'linkPoster': user_link if user_name != 'Người tham gia ẩn danh' else 'No link',\n",
    "            'name': user_name,\n",
    "            'time': time_post,\n",
    "            'content': content_post if content_post else 'No content',\n",
    "            'content_img': content_img_post if content_img_post else 'No picture',\n",
    "            'status': 'Success'\n",
    "        }\n",
    "    except Exception: \n",
    "        post_data = {\n",
    "            'linkPoster': 'error',\n",
    "            'name': 'error',\n",
    "            'time': 'error',\n",
    "            'content': 'error',\n",
    "            'content_img': 'error',\n",
    "            'status': 'error'\n",
    "        }\n",
    "    df.loc[len(df)] = post_data"
   ]
  },
  {
   "cell_type": "code",
   "execution_count": 91,
   "metadata": {},
   "outputs": [],
   "source": [
    "def scroll(driver):\n",
    "    driver.execute_script(\"window.scrollTo({top: document.body.scrollHeight, behavior: 'smooth'});\")"
   ]
  },
  {
   "cell_type": "code",
   "execution_count": 93,
   "metadata": {},
   "outputs": [],
   "source": [
    "def scroll_to_post(driver, post):\n",
    "    driver.execute_script(\"arguments[0].scrollIntoView({behavior: 'smooth', block: 'center'});\", post)\n",
    "    sleep(1)"
   ]
  },
  {
   "cell_type": "markdown",
   "metadata": {},
   "source": [
    "## Bản chính"
   ]
  },
  {
   "cell_type": "code",
   "execution_count": null,
   "metadata": {},
   "outputs": [],
   "source": [
    "post_list = driver.find_elements(By.CSS_SELECTOR, '[role=\"feed\"] .x1yztbdb.x1n2onr6.xh8yej3.x1ja2u2z')\n",
    "df = pd.DataFrame(columns=['linkPoster', 'name', 'time', 'content', 'content_img','status'])\n",
    "df_video = pd.DataFrame(columns=['linkPoster', 'name', 'time', 'content', 'linkVideo', 'typeVideo', 'status'])\n",
    "index  = 0\n",
    "while True: \n",
    "    try:\n",
    "        scroll_to_post(driver, post_list[index])\n",
    "        print(f\"Đã scroll tới bài đăng số {index + 1}:\")\n",
    "        \n",
    "        user_info = post_list[index].find_elements(By.CSS_SELECTOR, '.x1rg5ohu')\n",
    "        \n",
    "        user_link = post_list[index].find_elements(By.CSS_SELECTOR, '.xu06os2.x1ok221b a')[0].get_attribute('href')\n",
    "        \n",
    "        user_name = post_list[500].find_elements(By.CSS_SELECTOR, '.xu06os2.x1ok221b')[0].find_element(By.CSS_SELECTOR, '.xt0psk2').text        \n",
    "        \n",
    "        time_post = post_list[index].find_elements(By.CSS_SELECTOR, '.xu06os2.x1ok221b')[1]\n",
    "\n",
    "        if time_post.text.strip() == '·': \n",
    "            time_link = time_post.find_element(By.CSS_SELECTOR, 'use').get_attribute('xlink:href')\n",
    "            time_post = driver.find_element(By.CSS_SELECTOR, f'text{time_link}').get_attribute('textContent')\n",
    "        else: \n",
    "            time_post = time_post.text.replace('·','').strip()\n",
    "            \n",
    "        try: \n",
    "            content_post = post_list[500].find_element(By.CSS_SELECTOR, '[data-ad-rendering-role=\"message\"]')\n",
    "            try: \n",
    "                more_content = content_post.find_element(By.CSS_SELECTOR, 'div[role=\"button\"]').click()\n",
    "                content_post = post_list[500].find_element(By.CSS_SELECTOR, '[data-ad-rendering-role=\"message\"]').text\n",
    "            except NoSuchElementException: \n",
    "                content_post = post_list[500].find_element(By.CSS_SELECTOR, '[data-ad-rendering-role=\"message\"]').text\n",
    "        except NoSuchElementException:\n",
    "            content_post = None\n",
    "        \n",
    "        # 1 ảnh\n",
    "        content_img_post = {}        \n",
    "        i = 0\n",
    "        try:     \n",
    "            content_img_post[i] = post_list[index].find_element(By.CSS_SELECTOR, '.x6s0dn4.x1jx94hy.x78zum5.xdt5ytf.x6ikm8r.x10wlt62.x1n2onr6.xh8yej3 img').get_attribute('src')\n",
    "            i += 1\n",
    "        except NoSuchElementException: \n",
    "            pass\n",
    "        \n",
    "        # nhiều ảnh\n",
    "        try:     \n",
    "            content_img_list = post_list[index].find_elements(By.CSS_SELECTOR, '.html-div.xdj266r.x11i5rnm.xat24cr.x1mh8g0r.xexx8yu.x4uap5.x18d9i69.xkhd6sd.x6ikm8r.x10wlt62 img')\n",
    "            for img in content_img_list:\n",
    "                content_img_post[i] = img.get_attribute('src')\n",
    "                i += 1 \n",
    "        except NoSuchElementException: \n",
    "            pass \n",
    "\n",
    "        post_data = {\n",
    "            'linkPoster': user_link if user_name != 'Người tham gia ẩn danh' else 'No link',\n",
    "            'name': user_name,\n",
    "            'time': time_post,\n",
    "            'content': content_post if content_post else 'No content',\n",
    "            'content_img': content_img_post if content_img_post else 'No picture',\n",
    "            'status': 'Success'\n",
    "        }\n",
    "        df.loc[len(df)] = post_data\n",
    "    except Exception: \n",
    "        post_data = {\n",
    "            'linkPoster': 'error',\n",
    "            'name': 'error',\n",
    "            'time': 'error',\n",
    "            'content': 'error',\n",
    "            'content_img': 'error',\n",
    "            'status': 'error'\n",
    "        }\n",
    "        df.loc[len(df)] = post_data\n",
    "    except NoSuchElementException: # video\n",
    "        href = post_list[367].find_element(By.CSS_SELECTOR, 'a').get_attribute('href')\n",
    "        info = post_list[367].find_element(By.CSS_SELECTOR,'.x14l7nz5 span span span').get_attribute('textContent').split('·')\n",
    "        typeVideo = info[0].replace('\\xa0', '')\n",
    "        linkPoster = post_list[367].find_element(By.CSS_SELECTOR,'.x1swvt13.x1y1aw1k a').get_attribute('href')\n",
    "        name = info[1].replace('\\xa0', '')\n",
    "        timeVideo = info[2].replace('\\xa0', '')\n",
    "        content_post = post_list[367].find_element(By.CSS_SELECTOR,'.xjkvuk6.x1rz3hdg')\n",
    "        try: \n",
    "            more_content = content_post.find_element(By.CSS_SELECTOR, 'div[role=\"button\"]').click()\n",
    "        except NoSuchElementException: \n",
    "            pass \n",
    "        content_post = post_list[367].find_element(By.CSS_SELECTOR,'.xjkvuk6.x1rz3hdg').get_attribute('textContent')\n",
    "\n",
    "        post_data = {\n",
    "            'linkPoster': linkPoster,\n",
    "            'name': name,\n",
    "            'time': timeVideo,\n",
    "            'content': content_post if content_post else 'No content',\n",
    "            'linkVideo': href,\n",
    "            'typeVideo': typeVideo,\n",
    "            'status': 'Success'\n",
    "        }\n",
    "        df_video.loc[len(df_video)] = post_data\n",
    "        \n",
    "    if index >= len(post_list):  \n",
    "        scroll(driver)  \n",
    "        post_list_new = driver.find_elements(By.CSS_SELECTOR, '[role=\"feed\"] .x1yztbdb.x1n2onr6.xh8yej3.x1ja2u2z')\n",
    "        if len(post_list_new) == len(post_list):\n",
    "            print('Thu thập được:',len(post_list),'bài đăng')\n",
    "            break \n",
    "        else:\n",
    "            post_list = post_list_new \n",
    "            continue \n",
    "    index += 1"
   ]
  },
  {
   "cell_type": "code",
   "execution_count": 107,
   "metadata": {},
   "outputs": [
    {
     "name": "stdout",
     "output_type": "stream",
     "text": [
      "Bài đăng bị lỗi: 276\n",
      "Bài đăng bị lỗi: 367\n",
      "Bài đăng bị lỗi: 549\n",
      "Bài đăng bị lỗi: 609\n",
      "Bài đăng bị lỗi: 641\n",
      "Bài đăng bị lỗi: 642\n",
      "Bài đăng bị lỗi: 660\n",
      "Bài đăng bị lỗi: 662\n"
     ]
    }
   ],
   "source": [
    "# In ra các chỉ mục có 'status' là 'error'\n",
    "for index in df[df['status'] == 'error'].index:\n",
    "    print('Bài đăng bị lỗi:',index)"
   ]
  },
  {
   "cell_type": "code",
   "execution_count": null,
   "metadata": {},
   "outputs": [],
   "source": [
    "scroll_to_post(driver, post_list[641])"
   ]
  },
  {
   "cell_type": "markdown",
   "metadata": {},
   "source": [
    "df = pd.DataFrame(columns=['linkPoster', 'name', 'time', 'content', 'content_img','status'])\n",
    "x9f619 x1n2onr6 x1ja2u2z x78zum5 xdt5ytf x2lah0s x193iq5w xl56j7k xurb0ha x1sxyh0 x1gslohp x12nagc xzboxd6 x14l7nz5\n",
    "xyamay9 x1pi30zi x1swvt13 xjkvuk6 x1rz3hdg"
   ]
  },
  {
   "cell_type": "code",
   "execution_count": 122,
   "metadata": {},
   "outputs": [
    {
     "name": "stdout",
     "output_type": "stream",
     "text": [
      "{'linkPoster': 'No link', 'name': 'Người tham gia ẩn danh', 'time': '10 Tháng 9', 'content': 'Em cần mua giáo trình cũ của giáo dục tiểu học năm nhất anh/ chị nào có pass không ạ', 'content_img': 'No picture', 'status': 'Success'}\n"
     ]
    }
   ],
   "source": [
    "user_info = post_list[500].find_elements(By.CSS_SELECTOR, '.x1rg5ohu')\n",
    "        \n",
    "user_link = post_list[500].find_elements(By.CSS_SELECTOR, '.xu06os2.x1ok221b a')[0].get_attribute('href')\n",
    "\n",
    "user_name = post_list[500].find_elements(By.CSS_SELECTOR, '.xu06os2.x1ok221b')[0].find_element(By.CSS_SELECTOR, '.xt0psk2').text\n",
    "\n",
    "time_post = post_list[500].find_elements(By.CSS_SELECTOR, '.xu06os2.x1ok221b')[1]\n",
    "\n",
    "if time_post.text.strip() == '·': \n",
    "    time_link = time_post.find_element(By.CSS_SELECTOR, 'use').get_attribute('xlink:href')\n",
    "    time_post = driver.find_element(By.CSS_SELECTOR, f'text{time_link}').get_attribute('textContent')\n",
    "else: \n",
    "    time_post = time_post.text.replace('·','').strip()\n",
    "try: \n",
    "    content_post = post_list[500].find_element(By.CSS_SELECTOR, '[data-ad-rendering-role=\"message\"]')\n",
    "    try: \n",
    "        more_content = content_post.find_element(By.CSS_SELECTOR, 'div[role=\"button\"]').click()\n",
    "        content_post = post_list[500].find_element(By.CSS_SELECTOR, '[data-ad-rendering-role=\"message\"]').text\n",
    "    except NoSuchElementException: \n",
    "        content_post = post_list[500].find_element(By.CSS_SELECTOR, '[data-ad-rendering-role=\"message\"]').text\n",
    "except NoSuchElementException:\n",
    "    content_post = None\n",
    "\n",
    "# 1 ảnh\n",
    "content_img_post = {}        \n",
    "i = 0\n",
    "try:     \n",
    "    content_img_post[i] = post_list[500].find_element(By.CSS_SELECTOR, '.x6s0dn4.x1jx94hy.x78zum5.xdt5ytf.x6ikm8r.x10wlt62.x1n2onr6.xh8yej3 img').get_attribute('src')\n",
    "    i += 1\n",
    "except NoSuchElementException: \n",
    "    pass\n",
    "\n",
    "# nhiều ảnh\n",
    "try:     \n",
    "    content_img_list = post_list[500].find_elements(By.CSS_SELECTOR, '.html-div.xdj266r.x11i5rnm.xat24cr.x1mh8g0r.xexx8yu.x4uap5.x18d9i69.xkhd6sd.x6ikm8r.x10wlt62 img')\n",
    "    for img in content_img_list:\n",
    "        content_img_post[i] = img.get_attribute('src')\n",
    "        i += 1 \n",
    "except NoSuchElementException: \n",
    "    pass \n",
    "\n",
    "post_data = {\n",
    "    'linkPoster': user_link if user_name != 'Người tham gia ẩn danh' else 'No link',\n",
    "    'name': user_name,\n",
    "    'time': time_post,\n",
    "    'content': content_post if content_post else 'No content',\n",
    "    'content_img': content_img_post if content_img_post else 'No picture',\n",
    "    'status': 'Success'\n",
    "}\n",
    "print(post_data)"
   ]
  },
  {
   "cell_type": "code",
   "execution_count": null,
   "metadata": {},
   "outputs": [
    {
     "name": "stdout",
     "output_type": "stream",
     "text": [
      "29/9 trống 1 căn gần bến xe❤️\n",
      "Đchi: đường hòa minh 28🔻 Sát đh sư phạm, đh bách khoa,... \n",
      "🔸️Full nội thất\n",
      "🔸️… Xem thêm\n",
      "UED Confessions - Trường Đại học Sư phạm Đà Nẵng ✅\n",
      "Video ngắn\n",
      "  · Đức Mạnh\n",
      "  · 28 Tháng 9\n",
      "  ·\n",
      "Thích\n",
      "Bình luận\n",
      "Gửi\n",
      "Chia sẻ\n",
      "\n",
      "Viết bình luận công khai…\n"
     ]
    }
   ],
   "source": [
    "print(post_list[367].text)"
   ]
  },
  {
   "cell_type": "code",
   "execution_count": null,
   "metadata": {},
   "outputs": [],
   "source": [
    "# Xuất kết quả ra file CSV\n",
    "df.to_csv('D:/kpw/fb2/post_facebook.csv', index=False, encoding='utf-8')"
   ]
  }
 ],
 "metadata": {
  "kernelspec": {
   "display_name": "Python 3",
   "language": "python",
   "name": "python3"
  },
  "language_info": {
   "codemirror_mode": {
    "name": "ipython",
    "version": 3
   },
   "file_extension": ".py",
   "mimetype": "text/x-python",
   "name": "python",
   "nbconvert_exporter": "python",
   "pygments_lexer": "ipython3",
   "version": "3.11.4"
  }
 },
 "nbformat": 4,
 "nbformat_minor": 2
}
