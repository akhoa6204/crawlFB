{
 "cells": [
  {
   "cell_type": "markdown",
   "metadata": {},
   "source": [
    "## Import thư viện"
   ]
  },
  {
   "cell_type": "code",
   "execution_count": 80,
   "metadata": {},
   "outputs": [],
   "source": [
    "from selenium import webdriver\n",
    "from selenium.webdriver.common.by import By\n",
    "from selenium.webdriver.edge.options import Options\n",
    "from selenium.common.exceptions import  NoSuchElementException,ElementClickInterceptedException\n",
    "from selenium.webdriver.support.ui import WebDriverWait\n",
    "from selenium.webdriver.support import expected_conditions as EC\n",
    "import pandas as pd\n",
    "from time import sleep\n",
    "import os\n"
   ]
  },
  {
   "cell_type": "markdown",
   "metadata": {},
   "source": [
    "## Cấu hình tùy chọn cho Edge"
   ]
  },
  {
   "cell_type": "code",
   "execution_count": 81,
   "metadata": {},
   "outputs": [],
   "source": [
    "options = Options()\n",
    "options.add_argument(\"--start-maximized\")  # Mở ở chế độ toàn màn hình\n",
    "options.add_argument(\"--inprivate\")  # Chế độ ẩn danh (InPrivate mode)"
   ]
  },
  {
   "cell_type": "markdown",
   "metadata": {},
   "source": [
    "## Đăng nhập"
   ]
  },
  {
   "cell_type": "code",
   "execution_count": 48,
   "metadata": {},
   "outputs": [],
   "source": [
    "driver = webdriver.Edge(options=options)\n",
    "driver.get(\"https://www.facebook.com/groups/ued.confessions?locale=vi_VN\")\n",
    "username = driver.find_element(By.CSS_SELECTOR, '.x1egiwwb.x4l50q0 .xod5an3 input')\n",
    "password = driver.find_elements(By.CSS_SELECTOR, '.x1egiwwb.x4l50q0 .x1c436fg input')[0]\n",
    "login = driver.find_elements(By.CSS_SELECTOR, '.x1egiwwb.x4l50q0 .x1c436fg')[1]\n",
    "username.send_keys('khoalolriot@gmail.com')\n",
    "password.send_keys('Akhoa@6204')\n",
    "login.click()"
   ]
  },
  {
   "cell_type": "markdown",
   "metadata": {},
   "source": [
    "## Hàm scroll"
   ]
  },
  {
   "cell_type": "code",
   "execution_count": 63,
   "metadata": {},
   "outputs": [],
   "source": [
    "def scroll():\n",
    "    driver.execute_script(\"window.scrollTo({top: document.body.scrollHeight, behavior: 'smooth'});\")\n",
    "    sleep(1)\n",
    "def scroll_to_post(post, time):\n",
    "    driver.execute_script(\"arguments[0].scrollIntoView({behavior: 'smooth', block: 'center'});\", post)\n",
    "    sleep(time)"
   ]
  },
  {
   "cell_type": "markdown",
   "metadata": {},
   "source": [
    "## Đường dẫn lưu file"
   ]
  },
  {
   "cell_type": "code",
   "execution_count": 5,
   "metadata": {},
   "outputs": [],
   "source": [
    "path_normal = 'D:/kpw/crawlFB/post_facebook.csv'\n",
    "path_reel = 'D:/kpw/crawlFB/post_reel.csv'"
   ]
  },
  {
   "cell_type": "markdown",
   "metadata": {},
   "source": [
    "## Lưu kết quả"
   ]
  },
  {
   "cell_type": "code",
   "execution_count": null,
   "metadata": {},
   "outputs": [],
   "source": [
    "def saveOrCreate(result_post_normal, result_post_reel):\n",
    "    # Kiểm tra và tạo file CSV cho post_facebook nếu không tồn tại\n",
    "    if not os.path.exists(path_normal):\n",
    "        os.makedirs(os.path.dirname(path_normal), exist_ok=True)\n",
    "        df_normal = pd.DataFrame(columns=['index', 'linkPoster', 'name', 'role', 'time', 'content', 'content_img', 'react_list'])\n",
    "        df_normal.to_csv(path_normal, index=False)\n",
    "\n",
    "    # Nếu có dữ liệu mới, thêm vào file post_facebook.csv\n",
    "    if result_post_normal:\n",
    "        new_post_normal = pd.DataFrame(result_post_normal)\n",
    "        df_normal = pd.read_csv(path_normal)\n",
    "        df_normal = pd.concat([df_normal, new_post_normal], ignore_index=True)\n",
    "        df_normal.to_csv(path_normal, index=False)\n",
    "\n",
    "    # Kiểm tra và tạo file CSV cho post_reel nếu không tồn tại\n",
    "    if not os.path.exists(path_reel):\n",
    "        os.makedirs(os.path.dirname(path_reel), exist_ok=True)\n",
    "        df_reel = pd.DataFrame(columns=['index', 'linkPoster', 'name', 'time', 'content', 'linkVideo', 'typeVideo'])\n",
    "        df_reel.to_csv(path_reel, index=False)\n",
    "\n",
    "    # Nếu có dữ liệu mới, thêm vào file post_reel.csv\n",
    "    if result_post_reel:\n",
    "        new_post_reel = pd.DataFrame(result_post_reel)\n",
    "        df_reel = pd.read_csv(path_reel)\n",
    "        df_reel = pd.concat([df_reel, new_post_reel], ignore_index=True)\n",
    "        df_reel.to_csv(path_reel, index=False)\n"
   ]
  },
  {
   "cell_type": "markdown",
   "metadata": {},
   "source": [
    "## Lấy ra post đầu tiên của lần crawl trước"
   ]
  },
  {
   "cell_type": "code",
   "execution_count": 7,
   "metadata": {},
   "outputs": [],
   "source": [
    "def get_first_post():\n",
    "    # Đọc dữ liệu từ các file CSV\n",
    "    df_normal = pd.read_csv(path_normal)\n",
    "    df_reel = pd.read_csv(path_reel)\n",
    "\n",
    "    # Kiểm tra nếu cả hai dataframe đều rỗng\n",
    "    if df_normal.empty and df_reel.empty:\n",
    "        return None\n",
    "    \n",
    "    # Nếu df_normal không rỗng\n",
    "    if not df_normal.empty:\n",
    "        first_row_normal = df_normal.iloc[0]\n",
    "    else:\n",
    "        first_row_normal = None\n",
    "\n",
    "    # Nếu df_reel không rỗng\n",
    "    if not df_reel.empty:\n",
    "        first_row_reel = df_reel.iloc[0]\n",
    "    else:\n",
    "        first_row_reel = None\n",
    "\n",
    "    # So sánh và trả về dòng có index nhỏ hơn nếu cả hai dataframe không rỗng\n",
    "    if first_row_normal is not None and first_row_reel is not None:\n",
    "        if first_row_normal['index'] > first_row_reel['index']:\n",
    "            result = first_row_reel\n",
    "        else:\n",
    "            result = first_row_normal\n",
    "    elif first_row_normal is not None:\n",
    "        result = first_row_normal\n",
    "    elif first_row_reel is not None:\n",
    "        result = first_row_reel\n",
    "    else:\n",
    "        result = None\n",
    "\n",
    "    return result\n"
   ]
  },
  {
   "cell_type": "code",
   "execution_count": 202,
   "metadata": {},
   "outputs": [],
   "source": [
    "result_post_normal = []\n",
    "result_post_reel = []"
   ]
  },
  {
   "cell_type": "markdown",
   "metadata": {},
   "source": [
    "## Main"
   ]
  },
  {
   "cell_type": "code",
   "execution_count": null,
   "metadata": {},
   "outputs": [],
   "source": [
    "saveOrCreate(None, None)\n",
    "index  = 0\n",
    "post_list = driver.find_elements(By.CSS_SELECTOR, '[role=\"feed\"] .x1yztbdb.x1n2onr6.xh8yej3.x1ja2u2z')\n",
    "prev_result = get_first_post()\n",
    "while True:\n",
    "    post_data_normal = {}\n",
    "    post_data_reel = {} \n",
    "    try:\n",
    "        close = driver.find_element(By.XPATH,'//*[@id=\"facebook\"]/body/div[6]/div[1]/div/div[2]/div/div/div/div/div/div/div[1]/div/div[3]')\n",
    "        close.click()\n",
    "        sleep(5)\n",
    "    except NoSuchElementException: \n",
    "        pass  \n",
    "    \n",
    "    if index >= len(post_list):  \n",
    "        scroll()\n",
    "        post_list_new = driver.find_elements(By.CSS_SELECTOR, '[role=\"feed\"] .x1yztbdb.x1n2onr6.xh8yej3.x1ja2u2z')\n",
    "        if len(post_list_new) == len(post_list):\n",
    "            print()\n",
    "            print('Thu thập được:',len(post_list),'bài đăng')\n",
    "            break \n",
    "        else:\n",
    "            post_list = post_list_new \n",
    "    \n",
    "    try:\n",
    "        scroll_to_post(post_list[index], 1)\n",
    "        print(f\"Đã scroll tới bài đăng số {index + 1}:\")\n",
    "        print('post normal')\n",
    "        main  = post_list[index].find_element(By.XPATH,'./div/div/div/div/div/div/div/div/div/div[13]/div/div')\n",
    "        \n",
    "        info_box  = main.find_element(By.XPATH,'./div[2]')            \n",
    "        content_box = main.find_element(By.XPATH,'./div[3]')\n",
    "        react_cmt_box = main.find_element(By.XPATH,'./div[4]')\n",
    "        \n",
    "        user_link = info_box.find_element(By.XPATH, './div/div[2]/div/div[2]').find_element(By.CSS_SELECTOR, 'a').get_attribute('href')\n",
    "        \n",
    "        user_name = info_box.find_element(By.XPATH, './div/div[2]/div/div[1]').find_element(By.CSS_SELECTOR, '.xt0psk2').text  \n",
    "        \n",
    "        time_post = info_box.find_element(By.XPATH, './div/div[2]/div/div[2]')\n",
    "\n",
    "        try: \n",
    "            role = time_post.find_element(By.CSS_SELECTOR,'.x3nfvp2.x1kgmq87').text\n",
    "        except NoSuchElementException:\n",
    "            role = None\n",
    "\n",
    "        try: \n",
    "            time_link = time_post.find_element(By.CSS_SELECTOR, 'use').get_attribute('xlink:href')\n",
    "            time_post = driver.find_element(By.CSS_SELECTOR, f'text{time_link}').get_attribute('textContent')\n",
    "        except NoSuchElementException:  \n",
    "            time_post = time_post.text.replace('·','').strip()\n",
    "\n",
    "        try: \n",
    "            main_content = content_box.find_element(By.XPATH, './div[1]')\n",
    "            try: \n",
    "                more_content = main_content.find_element(By.CSS_SELECTOR, 'div[role=\"button\"]')\n",
    "                if more_content.text.strip() == 'Xem thêm': \n",
    "                    try:\n",
    "                        scroll_to_post(more_content, 0)\n",
    "                        more_content.click()\n",
    "                    except ElementClickInterceptedException: \n",
    "                        driver.execute_script(\"window.scrollBy({top: -400, behavior: 'smooth'});\")\n",
    "                        sleep(1)\n",
    "                        more_content.click()\n",
    "            except NoSuchElementException: \n",
    "                pass\n",
    "            main_content = content_box.find_element(By.XPATH, './div[1]').text\n",
    "        except NoSuchElementException:\n",
    "            main_content = None\n",
    "\n",
    "        content_img_post = {}        \n",
    "        try:     \n",
    "            content_img = content_box.find_element(By.XPATH, './div[2]')\n",
    "            content_img_list = content_img.find_elements(By.CSS_SELECTOR, 'img')\n",
    "            for i, img in enumerate(content_img_list):\n",
    "                content_img_post[i] = img.get_attribute('src')\n",
    "        except NoSuchElementException: \n",
    "            pass\n",
    "        \n",
    "        react = react_cmt_box.find_element(By.XPATH,'./div/div/div[1]')\n",
    "\n",
    "        total_cmt = react.find_element(By.XPATH,'./div/div[1]/div/div[2]').text\n",
    "\n",
    "        total_react = react.find_element(By.XPATH,'./div/div[1]/div/div[1]/div') \n",
    "\n",
    "        react_icon = react.find_elements(By.XPATH,'./div/div[1]/div/div[1]/span/span/span')\n",
    "\n",
    "        react_list = {\n",
    "            \"Thích\" : 0,\n",
    "            'Yêu thích' : 0,\n",
    "            'Thương thương': 0,\n",
    "            'Haha': 0,\n",
    "            'Wow': 0,\n",
    "            'Buồn': 0,\n",
    "            'Phẫn nộ': 0\n",
    "        }\n",
    "        for react in react_icon: \n",
    "            rs = react.find_element(By.CSS_SELECTOR,'div[aria-label]').get_attribute('aria-label').split(':')[0].strip()\n",
    "            for i in react_list: \n",
    "                if i== rs:\n",
    "                    react_list[i] = react.find_element(By.CSS_SELECTOR,'div[aria-label]').get_attribute('aria-label').split(':')[1].strip().split()[0]\n",
    "        post_data_normal = {\n",
    "            'index': index + 1,\n",
    "            'linkPoster': user_link if user_name != 'Người tham gia ẩn danh' else 'No link',\n",
    "            'name': user_name,\n",
    "            'role': role if role else 'Thành viên',\n",
    "            'time': time_post,\n",
    "            'content': main_content if main_content else 'No content',\n",
    "            'content_img': content_img_post if content_img_post else 'No picture',\n",
    "            'react_list': react_list\n",
    "        }\n",
    "        index += 1\n",
    "        print(post_data_normal)\n",
    "    except NoSuchElementException: # video\n",
    "        scroll_to_post(post_list[index], 1)\n",
    "        print(f\"Đã scroll tới bài đăng số {index + 1}:\")\n",
    "        print('post video')\n",
    "        \n",
    "        main = post_list[index].find_element(By.XPATH,'./div/div/div/div/div/div/div/div/div/div[13]/div/div')\n",
    "\n",
    "        content_box = main.find_element(By.XPATH,'./div[2]')\n",
    "        \n",
    "        link = content_box.find_element(By.CSS_SELECTOR, 'a')\n",
    "        href = link.get_attribute('href')\n",
    "        \n",
    "        box = link.find_element(By.XPATH,'./div[1]/div[3]/div/div/div[1]/div/div/div/div/div/div[2]/span/span')\n",
    "        \n",
    "        linkPoster = box.find_element(By.CSS_SELECTOR,'a').get_attribute('href')\n",
    "        \n",
    "        box = box.text.split('·')\n",
    "        typeVideo = box[0].replace('\\n', '').strip()\n",
    "        name = box[1].replace('\\n', '').strip()\n",
    "        time = box[2].replace('\\n', '').strip()\n",
    "        \n",
    "        try: \n",
    "            main_content = link.find_element(By.XPATH,'./div[1]/div[2]/div/div/div[2]/span/div')\n",
    "            try: \n",
    "                more_content = main_content.find_element(By.CSS_SELECTOR, 'div[role=\"button\"]')\n",
    "                if more_content.text.strip() == 'Xem thêm': \n",
    "                    scroll_to_post(more_content, 0)\n",
    "                    more_content.click()\n",
    "            except NoSuchElementException: \n",
    "                pass\n",
    "            main_content = link.find_element(By.XPATH, './div[1]/div[2]/div/div/div[2]/span/div').text\n",
    "        except NoSuchElementException:\n",
    "            main_content = None\n",
    "        \n",
    "        post_data_reel = {\n",
    "            'index': index + 1,\n",
    "            'linkPoster': linkPoster,\n",
    "            'name': name,\n",
    "            'time': time,\n",
    "            'content': main_content if main_content else 'No content',\n",
    "            'linkVideo': href,\n",
    "            'typeVideo': typeVideo,\n",
    "        }\n",
    "        \n",
    "        index += 1\n",
    "        print(post_data_reel)\n",
    "    \n",
    "    if prev_result is None: \n",
    "        pass\n",
    "    else:\n",
    "        if prev_result == post_data_normal: \n",
    "            break\n",
    "        if prev_result == post_data_reel:\n",
    "            break\n",
    "    if post_data_normal:  \n",
    "        result_post_normal.append(post_data_normal)\n",
    "    if post_data_reel:\n",
    "        result_post_reel.append(post_data_reel)\n",
    "    sleep(5)\n",
    "print('Crawl thành công')\n"
   ]
  },
  {
   "cell_type": "code",
   "execution_count": null,
   "metadata": {},
   "outputs": [],
   "source": [
    "saveOrCreate(result_post_normal, result_post_reel)\n",
    "print('Save thành công')"
   ]
  },
  {
   "cell_type": "markdown",
   "metadata": {},
   "source": [
    "//*[@id=\"mount_0_0_RC\"]/div/div[1]/div/div[3]/div/div/div[1]/div[1]/div[4]/div/div[2]/div/div/div/div[2]/div/div[4]/div/div/div/div/div/div/div/div/div/div[13]/div/div/div[4]/div/div\n",
    "//*[@id=\"mount_0_0_RC\"]/div/div[1]/div/div[3]/div/div/div[1]/div[1]/div[4]/div/div[2]/div/div/div/div[2]/div/div[4]/div/div/div/div/div/div/div/div/div/div[13]/div/div/div[4]/div/div/div[3]\n",
    "\n",
    "\n",
    "//*[@id=\"mount_0_0_nN\"]/div/div[1]/div/div[4]/div/div/div[1]/div/div[2]/div/div/div/div/div/div/div/div[2]/div[2]/div/div/div[2]/div/div[2]/div[3]"
   ]
  },
  {
   "cell_type": "code",
   "execution_count": 105,
   "metadata": {},
   "outputs": [],
   "source": [
    "post_list = driver.find_elements(By.CSS_SELECTOR, '[role=\"feed\"] .x1yztbdb.x1n2onr6.xh8yej3.x1ja2u2z')\n",
    "index =  0\n",
    "\n",
    "main  = post_list[index].find_element(By.XPATH,'./div/div/div/div/div/div/div/div/div/div[13]/div/div')\n",
    "scroll_to_post(main, 0)\n",
    "react_cmt_box = main.find_element(By.XPATH,'./div[4]')\n",
    "try:\n",
    "    more_cmt = react_cmt_box.find_element(By.XPATH, './div/div/div[@class=\"xdj266r xat24cr x1d52u69 xktsk01\"]')\n",
    "    if 'Xem thêm' in more_cmt.text:\n",
    "        try:\n",
    "            scroll_to_post(more_cmt, 0)\n",
    "            more_cmt.click()\n",
    "        except: \n",
    "            driver.execute_script(\"window.scrollBy({top: -400, behavior: 'smooth'});\")\n",
    "            more_cmt.click()\n",
    "\n",
    "except NoSuchElementException:\n",
    "    print('không có')\n",
    "    pass\n",
    "\n"
   ]
  },
  {
   "cell_type": "code",
   "execution_count": null,
   "metadata": {},
   "outputs": [],
   "source": []
  },
  {
   "cell_type": "markdown",
   "metadata": {},
   "source": [
    "\n",
    "//*[@id=\"mount_0_0_fT\"]/div/div[1]/div/div[4]/div/div/div[1]/div/div[2]/div/div/div/div/div/div/div[2]/div[2]/div/div/div[2]/div/div[2]/div[3]/div[19]/div/div[2]/div/div/div[1]\n",
    "//*[@id=\"mount_0_0_fT\"]/div/div[1]/div/div[4]/div/div/div[1]/div/div[2]/div/div/div/div/div/div/div[2]/div[2]/div/div/div[2]/div/div[2]/div[3]/div[19]/div/div[2]/div/div/div[1]/div/div/div[1]\n",
    "//*[@id=\"mount_0_0_fT\"]/div/div[1]/div/div[4]/div/div/div[1]/div/div[2]/div/div/div/div/div/div/div[2]/div[2]/div/div/div[2]/div/div[2]/div[3]/div[19]/div/div[2]/div/div/div[1]\n",
    "//*[@id=\"mount_0_0_fT\"]/div/div[1]/div/div[4]/div/div/div[1]/div/div[2]/div/div/div/div/div/div/div[2]/div[2]/div/div/div[2]/div/div[2]/div[3]/div[19]/div/div[2]/div/div/div[2]/div/div\n",
    "\n",
    "\n",
    "//*[@id=\"mount_0_0_fT\"]/div/div[1]/div/div[4]/div/div/div[1]/div/div[2]/div/div/div/div/div/div/div[2]/div[2]/div/div/div[2]/div/div[2]/div[3]/div[19]/div/div[2]/div/div/div[1]"
   ]
  },
  {
   "cell_type": "code",
   "execution_count": null,
   "metadata": {},
   "outputs": [
    {
     "name": "stdout",
     "output_type": "stream",
     "text": [
      "{'name': 'Huỳnh Lĩnh', 'content': 'Dạ chị xem xét bạn này dùm em Huy Thanh'}\n",
      "Huy Thanh\n",
      "Huỳnh Lĩnh chịu chú m luôn mà\n",
      "1 giờ\n",
      "Thích\n",
      "Phản hồi\n",
      "Chia sẻ\n",
      "end\n"
     ]
    },
    {
     "ename": "NoSuchElementException",
     "evalue": "Message: no such element: Unable to locate element: {\"method\":\"xpath\",\"selector\":\"./div/div[1]/div[2]/div[2]/div[1]/div[1]/div/div/span/span\"}\n  (Session info: MicrosoftEdge=130.0.2849.80); For documentation on this error, please visit: https://www.selenium.dev/documentation/webdriver/troubleshooting/errors#no-such-element-exception\nStacktrace:\n\tGetHandleVerifier [0x00007FF7141BDCA5+12853]\n\tMicrosoft::Applications::Events::EventProperty::empty [0x00007FF714468384+2250164]\n\tMicrosoft::Applications::Events::EventProperty::empty [0x00007FF7143A76D6+1460486]\n\t(No symbol) [0x00007FF713FB97CC]\n\t(No symbol) [0x00007FF713FB990C]\n\t(No symbol) [0x00007FF713FB066C]\n\t(No symbol) [0x00007FF713FD853F]\n\t(No symbol) [0x00007FF713FB0617]\n\t(No symbol) [0x00007FF713FB04DD]\n\t(No symbol) [0x00007FF713FD87E0]\n\t(No symbol) [0x00007FF713FB0617]\n\t(No symbol) [0x00007FF713FF1431]\n\t(No symbol) [0x00007FF713FD8163]\n\t(No symbol) [0x00007FF713FAFB54]\n\t(No symbol) [0x00007FF713FAF000]\n\t(No symbol) [0x00007FF713FAF741]\n\tMicrosoft::Applications::Events::EventProperty::empty [0x00007FF71433CDE4+1024020]\n\tMicrosoft::Applications::Events::EventProperty::~EventProperty [0x00007FF7140D9A04+57108]\n\tMicrosoft::Applications::Events::EventProperty::empty [0x00007FF71433BDE3+1019923]\n\tMicrosoft::Applications::Events::EventProperty::empty [0x00007FF71433BA49+1019001]\n\tMicrosoft::Applications::Events::ILogConfiguration::operator* [0x00007FF71415E061+394945]\n\tMicrosoft::Applications::Events::ILogConfiguration::operator* [0x00007FF71415A984+380900]\n\tMicrosoft::Applications::Events::ILogConfiguration::operator* [0x00007FF71415AAC9+381225]\n\tMicrosoft::Applications::Events::ILogConfiguration::operator* [0x00007FF7141522C6+346406]\n\tBaseThreadInitThunk [0x00007FFE8BFC257D+29]\n\tRtlUserThreadStart [0x00007FFE8D7AAF08+40]\n",
     "output_type": "error",
     "traceback": [
      "\u001b[1;31m---------------------------------------------------------------------------\u001b[0m",
      "\u001b[1;31mNoSuchElementException\u001b[0m                    Traceback (most recent call last)",
      "Cell \u001b[1;32mIn[149], line 10\u001b[0m\n\u001b[0;32m      6\u001b[0m \u001b[38;5;28;01mfor\u001b[39;00m cmt \u001b[38;5;129;01min\u001b[39;00m list_cmt:\n\u001b[0;32m      8\u001b[0m     scroll_to_post(cmt, \u001b[38;5;241m1\u001b[39m)\n\u001b[1;32m---> 10\u001b[0m     name \u001b[38;5;241m=\u001b[39m \u001b[43mcmt\u001b[49m\u001b[38;5;241;43m.\u001b[39;49m\u001b[43mfind_element\u001b[49m\u001b[43m(\u001b[49m\u001b[43mBy\u001b[49m\u001b[38;5;241;43m.\u001b[39;49m\u001b[43mXPATH\u001b[49m\u001b[43m,\u001b[49m\u001b[43m \u001b[49m\u001b[38;5;124;43m'\u001b[39;49m\u001b[38;5;124;43m./div/div[1]/div[2]/div[2]/div[1]/div[1]/div/div/span/span\u001b[39;49m\u001b[38;5;124;43m'\u001b[39;49m\u001b[43m)\u001b[49m\u001b[38;5;241m.\u001b[39mtext\n\u001b[0;32m     11\u001b[0m     content \u001b[38;5;241m=\u001b[39m cmt\u001b[38;5;241m.\u001b[39mfind_element(By\u001b[38;5;241m.\u001b[39mXPATH, \u001b[38;5;124m'\u001b[39m\u001b[38;5;124m./div/div[1]/div[2]/div[2]/div[1]/div[1]/div/div/div/span\u001b[39m\u001b[38;5;124m'\u001b[39m)\u001b[38;5;241m.\u001b[39mtext\n\u001b[0;32m     13\u001b[0m     sub_cmt \u001b[38;5;241m=\u001b[39m {\n\u001b[0;32m     14\u001b[0m         \u001b[38;5;124m'\u001b[39m\u001b[38;5;124mname\u001b[39m\u001b[38;5;124m'\u001b[39m: name, \n\u001b[0;32m     15\u001b[0m         \u001b[38;5;124m'\u001b[39m\u001b[38;5;124mcontent\u001b[39m\u001b[38;5;124m'\u001b[39m: content,\n\u001b[0;32m     16\u001b[0m     }\n",
      "File \u001b[1;32m~\\AppData\\Roaming\\Python\\Python311\\site-packages\\selenium\\webdriver\\remote\\webelement.py:417\u001b[0m, in \u001b[0;36mWebElement.find_element\u001b[1;34m(self, by, value)\u001b[0m\n\u001b[0;32m    414\u001b[0m     by \u001b[38;5;241m=\u001b[39m By\u001b[38;5;241m.\u001b[39mCSS_SELECTOR\n\u001b[0;32m    415\u001b[0m     value \u001b[38;5;241m=\u001b[39m \u001b[38;5;124mf\u001b[39m\u001b[38;5;124m'\u001b[39m\u001b[38;5;124m[name=\u001b[39m\u001b[38;5;124m\"\u001b[39m\u001b[38;5;132;01m{\u001b[39;00mvalue\u001b[38;5;132;01m}\u001b[39;00m\u001b[38;5;124m\"\u001b[39m\u001b[38;5;124m]\u001b[39m\u001b[38;5;124m'\u001b[39m\n\u001b[1;32m--> 417\u001b[0m \u001b[38;5;28;01mreturn\u001b[39;00m \u001b[38;5;28;43mself\u001b[39;49m\u001b[38;5;241;43m.\u001b[39;49m\u001b[43m_execute\u001b[49m\u001b[43m(\u001b[49m\u001b[43mCommand\u001b[49m\u001b[38;5;241;43m.\u001b[39;49m\u001b[43mFIND_CHILD_ELEMENT\u001b[49m\u001b[43m,\u001b[49m\u001b[43m \u001b[49m\u001b[43m{\u001b[49m\u001b[38;5;124;43m\"\u001b[39;49m\u001b[38;5;124;43musing\u001b[39;49m\u001b[38;5;124;43m\"\u001b[39;49m\u001b[43m:\u001b[49m\u001b[43m \u001b[49m\u001b[43mby\u001b[49m\u001b[43m,\u001b[49m\u001b[43m \u001b[49m\u001b[38;5;124;43m\"\u001b[39;49m\u001b[38;5;124;43mvalue\u001b[39;49m\u001b[38;5;124;43m\"\u001b[39;49m\u001b[43m:\u001b[49m\u001b[43m \u001b[49m\u001b[43mvalue\u001b[49m\u001b[43m}\u001b[49m\u001b[43m)\u001b[49m[\u001b[38;5;124m\"\u001b[39m\u001b[38;5;124mvalue\u001b[39m\u001b[38;5;124m\"\u001b[39m]\n",
      "File \u001b[1;32m~\\AppData\\Roaming\\Python\\Python311\\site-packages\\selenium\\webdriver\\remote\\webelement.py:395\u001b[0m, in \u001b[0;36mWebElement._execute\u001b[1;34m(self, command, params)\u001b[0m\n\u001b[0;32m    393\u001b[0m     params \u001b[38;5;241m=\u001b[39m {}\n\u001b[0;32m    394\u001b[0m params[\u001b[38;5;124m\"\u001b[39m\u001b[38;5;124mid\u001b[39m\u001b[38;5;124m\"\u001b[39m] \u001b[38;5;241m=\u001b[39m \u001b[38;5;28mself\u001b[39m\u001b[38;5;241m.\u001b[39m_id\n\u001b[1;32m--> 395\u001b[0m \u001b[38;5;28;01mreturn\u001b[39;00m \u001b[38;5;28;43mself\u001b[39;49m\u001b[38;5;241;43m.\u001b[39;49m\u001b[43m_parent\u001b[49m\u001b[38;5;241;43m.\u001b[39;49m\u001b[43mexecute\u001b[49m\u001b[43m(\u001b[49m\u001b[43mcommand\u001b[49m\u001b[43m,\u001b[49m\u001b[43m \u001b[49m\u001b[43mparams\u001b[49m\u001b[43m)\u001b[49m\n",
      "File \u001b[1;32m~\\AppData\\Roaming\\Python\\Python311\\site-packages\\selenium\\webdriver\\remote\\webdriver.py:354\u001b[0m, in \u001b[0;36mWebDriver.execute\u001b[1;34m(self, driver_command, params)\u001b[0m\n\u001b[0;32m    352\u001b[0m response \u001b[38;5;241m=\u001b[39m \u001b[38;5;28mself\u001b[39m\u001b[38;5;241m.\u001b[39mcommand_executor\u001b[38;5;241m.\u001b[39mexecute(driver_command, params)\n\u001b[0;32m    353\u001b[0m \u001b[38;5;28;01mif\u001b[39;00m response:\n\u001b[1;32m--> 354\u001b[0m     \u001b[38;5;28;43mself\u001b[39;49m\u001b[38;5;241;43m.\u001b[39;49m\u001b[43merror_handler\u001b[49m\u001b[38;5;241;43m.\u001b[39;49m\u001b[43mcheck_response\u001b[49m\u001b[43m(\u001b[49m\u001b[43mresponse\u001b[49m\u001b[43m)\u001b[49m\n\u001b[0;32m    355\u001b[0m     response[\u001b[38;5;124m\"\u001b[39m\u001b[38;5;124mvalue\u001b[39m\u001b[38;5;124m\"\u001b[39m] \u001b[38;5;241m=\u001b[39m \u001b[38;5;28mself\u001b[39m\u001b[38;5;241m.\u001b[39m_unwrap_value(response\u001b[38;5;241m.\u001b[39mget(\u001b[38;5;124m\"\u001b[39m\u001b[38;5;124mvalue\u001b[39m\u001b[38;5;124m\"\u001b[39m, \u001b[38;5;28;01mNone\u001b[39;00m))\n\u001b[0;32m    356\u001b[0m     \u001b[38;5;28;01mreturn\u001b[39;00m response\n",
      "File \u001b[1;32m~\\AppData\\Roaming\\Python\\Python311\\site-packages\\selenium\\webdriver\\remote\\errorhandler.py:229\u001b[0m, in \u001b[0;36mErrorHandler.check_response\u001b[1;34m(self, response)\u001b[0m\n\u001b[0;32m    227\u001b[0m         alert_text \u001b[38;5;241m=\u001b[39m value[\u001b[38;5;124m\"\u001b[39m\u001b[38;5;124malert\u001b[39m\u001b[38;5;124m\"\u001b[39m]\u001b[38;5;241m.\u001b[39mget(\u001b[38;5;124m\"\u001b[39m\u001b[38;5;124mtext\u001b[39m\u001b[38;5;124m\"\u001b[39m)\n\u001b[0;32m    228\u001b[0m     \u001b[38;5;28;01mraise\u001b[39;00m exception_class(message, screen, stacktrace, alert_text)  \u001b[38;5;66;03m# type: ignore[call-arg]  # mypy is not smart enough here\u001b[39;00m\n\u001b[1;32m--> 229\u001b[0m \u001b[38;5;28;01mraise\u001b[39;00m exception_class(message, screen, stacktrace)\n",
      "\u001b[1;31mNoSuchElementException\u001b[0m: Message: no such element: Unable to locate element: {\"method\":\"xpath\",\"selector\":\"./div/div[1]/div[2]/div[2]/div[1]/div[1]/div/div/span/span\"}\n  (Session info: MicrosoftEdge=130.0.2849.80); For documentation on this error, please visit: https://www.selenium.dev/documentation/webdriver/troubleshooting/errors#no-such-element-exception\nStacktrace:\n\tGetHandleVerifier [0x00007FF7141BDCA5+12853]\n\tMicrosoft::Applications::Events::EventProperty::empty [0x00007FF714468384+2250164]\n\tMicrosoft::Applications::Events::EventProperty::empty [0x00007FF7143A76D6+1460486]\n\t(No symbol) [0x00007FF713FB97CC]\n\t(No symbol) [0x00007FF713FB990C]\n\t(No symbol) [0x00007FF713FB066C]\n\t(No symbol) [0x00007FF713FD853F]\n\t(No symbol) [0x00007FF713FB0617]\n\t(No symbol) [0x00007FF713FB04DD]\n\t(No symbol) [0x00007FF713FD87E0]\n\t(No symbol) [0x00007FF713FB0617]\n\t(No symbol) [0x00007FF713FF1431]\n\t(No symbol) [0x00007FF713FD8163]\n\t(No symbol) [0x00007FF713FAFB54]\n\t(No symbol) [0x00007FF713FAF000]\n\t(No symbol) [0x00007FF713FAF741]\n\tMicrosoft::Applications::Events::EventProperty::empty [0x00007FF71433CDE4+1024020]\n\tMicrosoft::Applications::Events::EventProperty::~EventProperty [0x00007FF7140D9A04+57108]\n\tMicrosoft::Applications::Events::EventProperty::empty [0x00007FF71433BDE3+1019923]\n\tMicrosoft::Applications::Events::EventProperty::empty [0x00007FF71433BA49+1019001]\n\tMicrosoft::Applications::Events::ILogConfiguration::operator* [0x00007FF71415E061+394945]\n\tMicrosoft::Applications::Events::ILogConfiguration::operator* [0x00007FF71415A984+380900]\n\tMicrosoft::Applications::Events::ILogConfiguration::operator* [0x00007FF71415AAC9+381225]\n\tMicrosoft::Applications::Events::ILogConfiguration::operator* [0x00007FF7141522C6+346406]\n\tBaseThreadInitThunk [0x00007FFE8BFC257D+29]\n\tRtlUserThreadStart [0x00007FFE8D7AAF08+40]\n"
     ]
    }
   ],
   "source": [
    "post_data_cmt = []\n",
    "cmt_box = driver.find_element(By.XPATH, '//*[@id=\"mount_0_0_fT\"]/div/div[1]/div/div[4]/div/div/div[1]/div/div[2]/div/div/div/div/div/div/div[2]/div[2]/div/div/div[2]/div/div[2]/div[3]')\n",
    "scroll_to_post(cmt_box, 1)\n",
    "\n",
    "list_cmt = cmt_box.find_elements(By.XPATH, \"./div[position() < last()]\")\n",
    "for index in range(len(list_cmt)):\n",
    "    \n",
    "    scroll_to_post(cmt, 1)\n",
    "    \n",
    "    name = cmt.find_element(By.XPATH, './div/div[1]/div[2]/div[2]/div[1]/div[1]/div/div/span/span').text\n",
    "    content = cmt.find_element(By.XPATH, './div/div[1]/div[2]/div[2]/div[1]/div[1]/div/div/div/span').text\n",
    "    \n",
    "    sub_cmt = {\n",
    "        'name': name, \n",
    "        'content': content,\n",
    "    }\n",
    "    \n",
    "    print(sub_cmt)\n",
    "    post_data_cmt.append(sub_cmt)\n",
    "    \n",
    "    try:\n",
    "        xpath = './div/div[2]'\n",
    "        more = '/div/div/div[1]'\n",
    "        while True:\n",
    "            try:\n",
    "                more_cmt = cmt.find_element(By.XPATH, f'{xpath + more}')\n",
    "                print(more_cmt.text)\n",
    "                \n",
    "                print('end')\n",
    "            except NoSuchElementException:\n",
    "                break \n",
    "            xpath += '/div/div/div[2]'\n",
    "            more = '/div/div/div[2]'\n",
    "    except: pass \n",
    "\n",
    "\n"
   ]
  }
 ],
 "metadata": {
  "kernelspec": {
   "display_name": "Python 3",
   "language": "python",
   "name": "python3"
  },
  "language_info": {
   "codemirror_mode": {
    "name": "ipython",
    "version": 3
   },
   "file_extension": ".py",
   "mimetype": "text/x-python",
   "name": "python",
   "nbconvert_exporter": "python",
   "pygments_lexer": "ipython3",
   "version": "3.11.4"
  }
 },
 "nbformat": 4,
 "nbformat_minor": 2
}
