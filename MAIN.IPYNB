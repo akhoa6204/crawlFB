{
 "cells": [
  {
   "cell_type": "markdown",
   "metadata": {},
   "source": [
    "## Import thư viện"
   ]
  },
  {
   "cell_type": "code",
   "execution_count": 96,
   "metadata": {},
   "outputs": [],
   "source": [
    "from selenium import webdriver\n",
    "from selenium.webdriver.common.by import By\n",
    "from selenium.webdriver.edge.options import Options\n",
    "from selenium.common.exceptions import  NoSuchElementException,ElementClickInterceptedException\n",
    "import pandas as pd\n",
    "from time import sleep\n",
    "import os\n",
    "import re \n",
    "from urllib.parse import urlparse"
   ]
  },
  {
   "cell_type": "markdown",
   "metadata": {},
   "source": [
    "## Cấu hình tùy chọn cho Edge"
   ]
  },
  {
   "cell_type": "code",
   "execution_count": 119,
   "metadata": {},
   "outputs": [],
   "source": [
    "options = Options()\n",
    "options.add_argument(\"--start-maximized\")  # Mở ở chế độ toàn màn hình\n",
    "options.add_argument(\"--inprivate\")  # Chế độ ẩn danh (InPrivate mode)\n",
    "# options.add_argument(\"--headless\")  # Chạy mà không mở trình duyệt\n"
   ]
  },
  {
   "cell_type": "markdown",
   "metadata": {},
   "source": [
    "## Đăng nhập"
   ]
  },
  {
   "cell_type": "code",
   "execution_count": 158,
   "metadata": {},
   "outputs": [],
   "source": [
    "driver = webdriver.Edge(options=options)\n",
    "url = \"https://www.facebook.com/groups/daihockinhtedanang2021?locale=vi_VN\"\n",
    "driver.get(url)\n"
   ]
  },
  {
   "cell_type": "code",
   "execution_count": null,
   "metadata": {},
   "outputs": [],
   "source": [
    "def find_element_with_fallback(driver, selectors):\n",
    "    for selector in selectors:\n",
    "        try:\n",
    "            if selector['type'] == 'css':\n",
    "                return driver.find_element(By.CSS_SELECTOR, selector['value'])\n",
    "            elif selector['type'] == 'xpath':\n",
    "                return driver.find_element(By.XPATH, selector['value'])\n",
    "        except:\n",
    "            continue\n",
    "    raise NoSuchElementException(f\"Không tìm thấy phần tử với các lựa chọn: {selectors}\")\n",
    "\n",
    "# Danh sách lựa chọn cho username\n",
    "username_selectors = [\n",
    "    {'type': 'css', 'value': '.x1egiwwb.x4l50q0 .xod5an3 input'},\n",
    "    {'type': 'xpath', 'value': '/html/body/div[1]/div/div[1]/div/div[2]/div[2]/div[2]/div/form/div[2]/div[1]/label/input'},\n",
    "    {'type': 'xpath', 'value': '/html/body/div[1]/div[1]/div[1]/div/div[3]/div[2]/form/div[2]/div[1]/input'}\n",
    "]\n",
    "\n",
    "# Danh sách lựa chọn cho password\n",
    "password_selectors = [\n",
    "    {'type': 'css', 'value': '.x1egiwwb.x4l50q0 .x1c436fg input'},\n",
    "    {'type': 'xpath', 'value': '/html/body/div[1]/div/div[1]/div/div[2]/div[2]/div[2]/div/form/div[2]/div[2]/label/input'},\n",
    "    {'type': 'xpath', 'value': '/html/body/div[1]/div[1]/div[1]/div/div[3]/div[2]/form/div[2]/div[2]/div/div/input'}\n",
    "]\n",
    "\n",
    "# Danh sách lựa chọn cho nút login\n",
    "login_selectors = [\n",
    "    {'type': 'css', 'value': '.x1egiwwb.x4l50q0 .x1c436fg'},\n",
    "    {'type': 'css', 'value': 'div[aria-label=\"Đăng nhập\"]'},\n",
    "    {'type': 'xpath', 'value': '/html/body/div[1]/div[1]/div[1]/div/div[3]/div[2]/form/div[2]/div[3]/button'}\n",
    "]\n",
    "\n",
    "# Tìm các phần tử\n",
    "username = find_element_with_fallback(driver, username_selectors)\n",
    "password = find_element_with_fallback(driver, password_selectors)\n",
    "login = find_element_with_fallback(driver, login_selectors)\n",
    "\n",
    "# Thực hiện đăng nhập\n",
    "username.send_keys(\"khoalolriot@gmail.com\")\n",
    "password.send_keys(\"Akhoa@6204\")\n",
    "login.click()\n"
   ]
  },
  {
   "cell_type": "markdown",
   "metadata": {},
   "source": [
    "## Hàm scroll"
   ]
  },
  {
   "cell_type": "code",
   "execution_count": 161,
   "metadata": {},
   "outputs": [],
   "source": [
    "def scroll():\n",
    "    # Lấy chiều cao màn hình (viewport height) từ trình duyệt\n",
    "    viewport_height = driver.execute_script(\"return window.innerHeight;\")\n",
    "    \n",
    "    # Cuộn xuống một đoạn bằng chiều cao màn hình\n",
    "    driver.execute_script(f\"\"\"\n",
    "        window.scrollBy({{\n",
    "            top: {viewport_height}, \n",
    "            behavior: 'smooth'\n",
    "        }});\n",
    "    \"\"\")\n",
    "    sleep(2)  # Chờ 5 giây sau khi cuộn xuống\n",
    "    \n",
    "    # Cuộn lên lại một đoạn bằng chính chiều cao đã cuộn xuống\n",
    "    driver.execute_script(f\"\"\"\n",
    "        window.scrollBy({{\n",
    "            top: {-viewport_height},\n",
    "            behavior: 'smooth'\n",
    "        }});\n",
    "    \"\"\")\n",
    "  # Chờ sau khi cuộn lên  "
   ]
  },
  {
   "cell_type": "code",
   "execution_count": 162,
   "metadata": {},
   "outputs": [],
   "source": [
    "def scroll_to_post(post, time):\n",
    "    driver.execute_script(\"arguments[0].scrollIntoView({behavior: 'smooth', block: 'center'});\", post)\n",
    "    sleep(time)"
   ]
  },
  {
   "cell_type": "code",
   "execution_count": 163,
   "metadata": {},
   "outputs": [],
   "source": [
    "def scroll_auto():    \n",
    "    last_height = driver.execute_script(\"return document.body.scrollHeight\")\n",
    "\n",
    "    while True:\n",
    "        # Cuộn xuống cuối trang\n",
    "        driver.execute_script(\"window.scrollTo(0, document.body.scrollHeight);\")\n",
    "        sleep(2)  # Chờ tải nội dung (nếu có)\n",
    "\n",
    "        # Lấy chiều cao mới\n",
    "        new_height = driver.execute_script(\"return document.body.scrollHeight\")\n",
    "        if new_height == last_height:  # Kiểm tra nếu đã cuộn đến cuối\n",
    "            break\n",
    "        last_height = new_height"
   ]
  },
  {
   "cell_type": "markdown",
   "metadata": {},
   "source": [
    "## Đường dẫn lưu file"
   ]
  },
  {
   "cell_type": "code",
   "execution_count": 142,
   "metadata": {},
   "outputs": [],
   "source": [
    "parsed_url = urlparse(url)\n",
    "path = parsed_url.path  # Lấy phần đường dẫn\n",
    "result = re.sub( r'[^\\w]','_',path.split('/')[-1]) \n",
    "\n",
    "path_normal = f'D:/kpw/crawlFB/post_facebook_{result}.csv'\n",
    "path_reel = f'D:/kpw/crawlFB/post_reel_{result}.csv'"
   ]
  },
  {
   "cell_type": "markdown",
   "metadata": {},
   "source": [
    "## Lưu kết quả"
   ]
  },
  {
   "cell_type": "code",
   "execution_count": 143,
   "metadata": {},
   "outputs": [],
   "source": [
    "def saveOrCreate(result_post_normal, result_post_reel):\n",
    "    # Kiểm tra và tạo file CSV cho post_facebook nếu không tồn tại\n",
    "    if not os.path.exists(path_normal):\n",
    "        os.makedirs(os.path.dirname(path_normal), exist_ok=True)\n",
    "        df_normal = pd.DataFrame(columns=['index', 'linkPoster', 'name', 'role', 'time', 'content', 'content_img', 'react_list', 'comment'])\n",
    "        df_normal.to_csv(path_normal, index=False)\n",
    "\n",
    "    # Nếu có dữ liệu mới, thêm vào file post_facebook.csv\n",
    "    if result_post_normal:\n",
    "        new_post_normal = pd.DataFrame(result_post_normal)\n",
    "        df_normal = pd.read_csv(path_normal)\n",
    "        df_normal = pd.concat([new_post_normal, df_normal], ignore_index=True)\n",
    "        df_normal.to_csv(path_normal, index=False)\n",
    "\n",
    "    # Kiểm tra và tạo file CSV cho post_reel nếu không tồn tại\n",
    "    if not os.path.exists(path_reel):\n",
    "        os.makedirs(os.path.dirname(path_reel), exist_ok=True)\n",
    "        df_reel = pd.DataFrame(columns=['index', 'linkPoster', 'name', 'time', 'content', 'linkVideo', 'typeVideo'])\n",
    "        df_reel.to_csv(path_reel, index=False)\n",
    "\n",
    "    # Nếu có dữ liệu mới, thêm vào file post_reel.csv\n",
    "    if result_post_reel:\n",
    "        new_post_reel = pd.DataFrame(result_post_reel)\n",
    "        df_reel = pd.read_csv(path_reel)\n",
    "        df_reel = pd.concat([new_post_reel, df_reel], ignore_index=True)\n",
    "        df_reel.to_csv(path_reel, index=False)\n"
   ]
  },
  {
   "cell_type": "markdown",
   "metadata": {},
   "source": [
    "## Lấy ra post đầu tiên của lần crawl trước"
   ]
  },
  {
   "cell_type": "code",
   "execution_count": 144,
   "metadata": {},
   "outputs": [],
   "source": [
    "def get_first_post():\n",
    "    # Đọc dữ liệu từ các file CSV\n",
    "    df_normal = pd.read_csv(path_normal)\n",
    "    df_reel = pd.read_csv(path_reel)\n",
    "\n",
    "    # Kiểm tra nếu cả hai dataframe đều rỗng\n",
    "    if df_normal.empty and df_reel.empty:\n",
    "        return None\n",
    "    \n",
    "    # Nếu df_normal không rỗng\n",
    "    if not df_normal.empty:\n",
    "        first_row_normal = df_normal.iloc[0]\n",
    "    else:\n",
    "        first_row_normal = None\n",
    "\n",
    "    # Nếu df_reel không rỗng\n",
    "    if not df_reel.empty:\n",
    "        first_row_reel = df_reel.iloc[0]\n",
    "    else:\n",
    "        first_row_reel = None\n",
    "\n",
    "    # So sánh và trả về dòng có index nhỏ hơn nếu cả hai dataframe không rỗng\n",
    "    if first_row_normal is not None and first_row_reel is not None:\n",
    "        if first_row_normal['index'] > first_row_reel['index']:\n",
    "            result = first_row_reel\n",
    "        else:\n",
    "            result = first_row_normal\n",
    "    elif first_row_normal is not None:\n",
    "        result = first_row_normal\n",
    "    elif first_row_reel is not None:\n",
    "        result = first_row_reel\n",
    "    else:\n",
    "        result = None\n",
    "\n",
    "    return result\n"
   ]
  },
  {
   "cell_type": "markdown",
   "metadata": {},
   "source": [
    "## Sắp xếp Post mới nhất"
   ]
  },
  {
   "cell_type": "code",
   "execution_count": 146,
   "metadata": {},
   "outputs": [],
   "source": [
    "try: \n",
    "    chooseList = driver.find_element(By.CSS_SELECTOR, '[role=\"feed\"] div:first-child div div div div')\n",
    "    scroll_to_post(chooseList, 1)\n",
    "    chooseList.click()\n",
    "    sleep(1)\n",
    "\n",
    "    choice = driver.find_element(By.XPATH, '/html/body/div[1]/div/div[1]/div/div[3]/div/div/div[2]/div/div/div[1]/div[1]/div/div/div/div/div/div/div/div[1]/div/div[3]')\n",
    "    choice.click()\n",
    "except:\n",
    "    pass"
   ]
  },
  {
   "cell_type": "markdown",
   "metadata": {},
   "source": [
    "## Click more "
   ]
  },
  {
   "cell_type": "code",
   "execution_count": 178,
   "metadata": {},
   "outputs": [],
   "source": [
    "def clickMoreContent(cmt):\n",
    "    more_buttons = cmt.find_elements(By.CSS_SELECTOR, 'div[role = \"button\"]')\n",
    "    for button in more_buttons:\n",
    "        if button.text.strip() == 'Xem thêm':\n",
    "            try:\n",
    "                scroll_to_post(button, 0)\n",
    "                button.click()\n",
    "            except: \n",
    "                driver.execute_script(\"window.scrollBy({top: -200, behavior: 'smooth'});\")\n",
    "                button.click()\n",
    "        sleep(1)"
   ]
  },
  {
   "cell_type": "code",
   "execution_count": 179,
   "metadata": {},
   "outputs": [],
   "source": [
    "def clickMoreComment(cmt):\n",
    "    more_buttons = cmt.find_elements(By.CSS_SELECTOR, 'div[role = \"button\"]')\n",
    "    check_moreCmt = False\n",
    "    for button in more_buttons:\n",
    "        if 'Xem' in button.text and 'phản hồi' in button.text:\n",
    "            try:\n",
    "                scroll_to_post(button, 0)\n",
    "                button.click()\n",
    "            except: \n",
    "                driver.execute_script(\"window.scrollBy({top: -200, behavior: 'smooth'});\")\n",
    "                button.click()\n",
    "            check_moreCmt = True\n",
    "            break\n",
    "        sleep(1)\n",
    "    return check_moreCmt"
   ]
  },
  {
   "cell_type": "markdown",
   "metadata": {},
   "source": [
    "## Close popup cmt"
   ]
  },
  {
   "cell_type": "code",
   "execution_count": 166,
   "metadata": {},
   "outputs": [],
   "source": [
    "def close_popup_cmt():\n",
    "    try: \n",
    "        post = driver.find_element(By.CSS_SELECTOR, 'div[role = \"dialog\"]')\n",
    "        close = post.find_element(By.CSS_SELECTOR, 'div[aria-label=\"Đóng\"]')\n",
    "        close.click()\n",
    "    except:\n",
    "        pass"
   ]
  },
  {
   "cell_type": "markdown",
   "metadata": {},
   "source": [
    "# Extract"
   ]
  },
  {
   "cell_type": "code",
   "execution_count": 149,
   "metadata": {},
   "outputs": [],
   "source": [
    "def extractInfo(info_box):\n",
    "    try:\n",
    "        user_link = info_box.find_element(By.XPATH, './div/div[2]/div/div[1]/span/div/h2/span/span/a').get_attribute('href')\n",
    "    except:\n",
    "        user_link = None\n",
    "    user_name = info_box.find_element(By.XPATH, './div/div[2]/div/div[1]').find_element(By.CSS_SELECTOR, '.xt0psk2').text  \n",
    "    time_post = info_box.find_element(By.XPATH, './div/div[2]/div/div[2]')\n",
    "\n",
    "    try: \n",
    "        role = time_post.find_element(By.CSS_SELECTOR,'.x3nfvp2.x1kgmq87').text\n",
    "    except NoSuchElementException:\n",
    "        role = None\n",
    "\n",
    "    try: \n",
    "        time_link = time_post.find_element(By.CSS_SELECTOR, 'use').get_attribute('xlink:href')\n",
    "        time_post = driver.find_element(By.CSS_SELECTOR, f'text{time_link}').get_attribute('textContent')\n",
    "    except NoSuchElementException:  \n",
    "        time_post = time_post.text.replace('·','').strip()\n",
    "    return user_link, user_name, time_post, role"
   ]
  },
  {
   "cell_type": "code",
   "execution_count": 150,
   "metadata": {},
   "outputs": [],
   "source": [
    "def extractContent(content_box):\n",
    "    # Lấy thông tin bài đăng\n",
    "    try: # Có nội dung\n",
    "        main_content = content_box.find_element(By.XPATH, './div[1]')\n",
    "        try: \n",
    "            clickMoreContent(main_content)\n",
    "        except NoSuchElementException: \n",
    "            pass\n",
    "        main_content = content_box.find_element(By.XPATH, './div[1]').text\n",
    "    except NoSuchElementException: # Không có nội dung\n",
    "        main_content = None\n",
    "\n",
    "    # Lấy ảnh trong bài đăng\n",
    "    content_img_post = {}        \n",
    "    try: # Có ảnh  \n",
    "        content_img = content_box.find_element(By.XPATH, './div[2]')\n",
    "        content_img_list = content_img.find_elements(By.CSS_SELECTOR, 'img')\n",
    "        for i, img in enumerate(content_img_list):\n",
    "            content_img_post[i] = img.get_attribute('src')\n",
    "    except NoSuchElementException: # Không có ảnh\n",
    "        pass\n",
    "    return main_content, content_img_post"
   ]
  },
  {
   "cell_type": "code",
   "execution_count": 151,
   "metadata": {},
   "outputs": [],
   "source": [
    "def extractReact(react_cmt_box):\n",
    "    react_list = {\n",
    "        \"Thích\" : 0,\n",
    "        'Yêu thích' : 0,\n",
    "        'Thương thương': 0,\n",
    "        'Haha': 0,\n",
    "        'Wow': 0,\n",
    "        'Buồn': 0,\n",
    "        'Phẫn nộ': 0\n",
    "    }\n",
    "    try: # Bài đăng có người thả cảm xúc\n",
    "        react = react_cmt_box.find_element(By.XPATH,'./div/div/div[1]')\n",
    "\n",
    "        react_icon = react.find_elements(By.XPATH,'./div/div[1]/div/div[1]/span/span/span')\n",
    "        for react in react_icon: \n",
    "            rs = react.find_element(By.CSS_SELECTOR,'div[aria-label]').get_attribute('aria-label').split(':')[0].strip()\n",
    "            for i in react_list: \n",
    "                if i== rs:\n",
    "                    react_list[i] = react.find_element(By.CSS_SELECTOR,'div[aria-label]').get_attribute('aria-label').split(':')[1].strip().split()[0]\n",
    "    except NoSuchElementException: # Bài đăng không có người thả cảm xúc\n",
    "        pass\n",
    "    \n",
    "    return react_list\n",
    "    "
   ]
  },
  {
   "cell_type": "code",
   "execution_count": null,
   "metadata": {},
   "outputs": [],
   "source": [
    "def extractComment_popUp(post, post_data_cmt):\n",
    "    cmt_box = post.find_element(By.XPATH, './div/div/div/div[2]/div[2]/div/div/div[2]/div/div[2]/div[3]')\n",
    "    scroll_to_post(cmt_box,0)\n",
    "    cmt_list = cmt_box.find_elements(By.XPATH, './div[position() < last()]')\n",
    "    for cmt in cmt_list:\n",
    "        # Nhấn tất cả các nút xem thêm của comment đó\n",
    "        while True:\n",
    "            try:\n",
    "                more_cmt_button_list = cmt.find_elements(By.CSS_SELECTOR, 'div[role=\"button\"]')\n",
    "                has_clicked = False \n",
    "                for button in more_cmt_button_list:\n",
    "                    if \"Xem\" in button.text and \"phản hồi\" in button.text:\n",
    "                        try:    \n",
    "                            scroll_to_post(button, 0)\n",
    "                            button.click()\n",
    "                        except: \n",
    "                            driver.execute_script(\"window.scrollBy({top: -200, behavior: 'smooth'});\")\n",
    "                            button.click()\n",
    "                        has_clicked = True\n",
    "                        break  \n",
    "                if not has_clicked:\n",
    "                    break\n",
    "                sleep(1.5)\n",
    "            except Exception:\n",
    "                break\n",
    "        results = []\n",
    "        content = cmt.text.split('\\n')\n",
    "        # Tiền xử lí comment\n",
    "        try:\n",
    "            i = 0\n",
    "            for index_, line in enumerate(content):  \n",
    "                if line == 'Thích': \n",
    "                    cmt_sub = content[i: index_ - 1]\n",
    "                    results.append(cmt_sub)\n",
    "                if line == \"Chia sẻ\" and content[index_ + 1] != 'Đã chỉnh sửa':\n",
    "                    i = index_ + 1\n",
    "\n",
    "                if line == 'Đã chỉnh sửa' and content[index_ + 1].isdigit():\n",
    "                    i = index_ + 2\n",
    "                elif line == 'Đã chỉnh sửa' and re.search(r'[a-zA-Z]', content[index_ + 1]):\n",
    "                    i = index_ + 1 \n",
    "                if line == 'Viết phản hồi công khai…':\n",
    "                    i = index_ + 1        \n",
    "        except: pass  \n",
    "        # Lưu người viết và nội dung comment \n",
    "        for result in results: \n",
    "            for index_, line in enumerate(result):\n",
    "                if index_ == 0: \n",
    "                    if line.isdigit():\n",
    "                        name = result[index_ + 1]\n",
    "                    else: \n",
    "                        name = result[index_]\n",
    "                        num = index_\n",
    "                content = ' '.join(result[num + 1: ])\n",
    "                if line == '  ·' and result[index_ + 1] == 'Theo dõi':\n",
    "                    content = ' '.join(result[index_ + 2 :])\n",
    "                    break\n",
    "                \n",
    "            comment = {\n",
    "                'name' : name, \n",
    "                'content': content\n",
    "            }\n",
    "            post_data_cmt.append(comment)\n",
    "    check_moreCmt = False\n",
    "    return check_moreCmt"
   ]
  },
  {
   "cell_type": "code",
   "execution_count": null,
   "metadata": {},
   "outputs": [],
   "source": [
    "def extractComment(react_cmt_box, check):\n",
    "    cmt_box = react_cmt_box.find_element(By.XPATH, './div/div')\n",
    "    cmt_list = cmt_box.find_elements(By.XPATH,'./div')\n",
    "    check_moreCmt = check if check else False\n",
    "    post_data_cmt = []\n",
    "    scroll_to_post(react_cmt_box, 0)\n",
    "    try:\n",
    "        if len(cmt_list) < 4: # Không có comment nào trong bài đăng\n",
    "            return None  \n",
    "        else:\n",
    "            more_button = cmt_box.find_element(By.XPATH, './div[3]')\n",
    "            if 'Xem thêm' in more_button.text or 'Xem tất cả' in more_button.text:\n",
    "                try:\n",
    "                    scroll_to_post(more_button, 0)\n",
    "                    more_button.click()\n",
    "                except: \n",
    "                    driver.execute_script(\"window.scrollBy({top: -200, behavior: 'smooth'});\")\n",
    "                    more_button.click()\n",
    "                check_moreCmt = True\n",
    "    except:\n",
    "        pass\n",
    "            \n",
    "    sleep(2)\n",
    "\n",
    "    while True:\n",
    "        if check_moreCmt:\n",
    "            post = driver.find_element(By.CSS_SELECTOR, 'div[role = \"dialog\"]')\n",
    "            check_moreCmt = extractComment_popUp(post, post_data_cmt)\n",
    "        else: \n",
    "            cmt_list = react_cmt_box.find_elements(By.XPATH, './div/div/div[position() > 2 and position() < last()]')\n",
    "            for cmt in cmt_list:          \n",
    "                try:  \n",
    "                    clickMoreContent(cmt)\n",
    "                    check_moreCmt = clickMoreComment(cmt)\n",
    "                except: pass\n",
    "            if not check_moreCmt: \n",
    "                for cmt in cmt_list:  \n",
    "                    name = cmt.find_element(By.XPATH,'./div/div/div[2]/div[1]/div[1]/div/div/span').text\n",
    "                    content = cmt.find_element(By.XPATH,'./div/div/div[2]/div[1]/div[1]/div/div/div').text\n",
    "                    comment = {\n",
    "                        'name' : name, \n",
    "                        'content': content\n",
    "                    }\n",
    "                    post_data_cmt.append(comment)\n",
    "        if check_moreCmt:   \n",
    "            continue \n",
    "        else: \n",
    "            break \n",
    "    return post_data_cmt\n"
   ]
  },
  {
   "cell_type": "markdown",
   "metadata": {},
   "source": [
    "## DEBUG"
   ]
  },
  {
   "cell_type": "code",
   "execution_count": 167,
   "metadata": {},
   "outputs": [],
   "source": [
    "def debug_cmt(react_cmt_box):\n",
    "    close_popup_cmt()\n",
    "    post_data_cmt = []\n",
    "    check_moreCmt = False\n",
    "    cmt_list = react_cmt_box.find_elements(By.XPATH, './div/div/div[position() > 2 and position() < last()]')\n",
    "    for cmt in cmt_list:          \n",
    "        try:  \n",
    "            clickMoreContent(cmt)\n",
    "            check_moreCmt = clickMoreComment(cmt)\n",
    "        except: pass\n",
    "    try:\n",
    "        post_data_cmt = extractComment(react_cmt_box, check_moreCmt)\n",
    "    except: \n",
    "        for cmt in cmt_list:  \n",
    "            name = cmt.find_element(By.XPATH,'./div/div/div[2]/div[1]/div[1]/div/div/span').text\n",
    "            content = cmt.find_element(By.XPATH,'./div/div/div[2]/div[1]/div[1]/div/div/div').text\n",
    "            comment = {\n",
    "                'name' : name, \n",
    "                'content': content\n",
    "            }\n",
    "            post_data_cmt.append(comment)\n",
    "    return post_data_cmt"
   ]
  },
  {
   "cell_type": "markdown",
   "metadata": {},
   "source": [
    "## Refresh "
   ]
  },
  {
   "cell_type": "code",
   "execution_count": 115,
   "metadata": {},
   "outputs": [],
   "source": [
    "driver.refresh()\n",
    "sleep(2)"
   ]
  },
  {
   "cell_type": "markdown",
   "metadata": {},
   "source": [
    "## Main"
   ]
  },
  {
   "cell_type": "code",
   "execution_count": null,
   "metadata": {},
   "outputs": [],
   "source": [
    "result_post_normal = []\n",
    "result_post_reel = []"
   ]
  },
  {
   "cell_type": "code",
   "execution_count": null,
   "metadata": {},
   "outputs": [
    {
     "name": "stdout",
     "output_type": "stream",
     "text": [
      "Đây là lần đầu tiên crawl group này\n",
      "Đã scroll tới bài đăng số 743:\n",
      "post normal\n"
     ]
    },
    {
     "ename": "StaleElementReferenceException",
     "evalue": "Message: stale element reference: stale element not found in the current frame\n  (Session info: MicrosoftEdge=131.0.2903.51); For documentation on this error, please visit: https://www.selenium.dev/documentation/webdriver/troubleshooting/errors#stale-element-reference-exception\nStacktrace:\n\t(No symbol) [0x00007FF760506B05]\n\tMicrosoft::Applications::Events::EventProperty::empty [0x00007FF76082F444+1437348]\n\tsqlite3_dbdata_init [0x00007FF7608D2D86+643190]\n\t(No symbol) [0x00007FF7603EAD3C]\n\t(No symbol) [0x00007FF7603ED6B3]\n\t(No symbol) [0x00007FF760467846]\n\t(No symbol) [0x00007FF76044C19A]\n\t(No symbol) [0x00007FF760423437]\n\t(No symbol) [0x00007FF760466BFF]\n\t(No symbol) [0x00007FF76044BE03]\n\t(No symbol) [0x00007FF760422984]\n\t(No symbol) [0x00007FF760421E30]\n\t(No symbol) [0x00007FF760422571]\n\tMicrosoft::Applications::Events::EventProperty::empty [0x00007FF7607DBAD4+1094964]\n\t(No symbol) [0x00007FF7605432B8]\n\tMicrosoft::Applications::Events::EventProperty::empty [0x00007FF7607DAF13+1091955]\n\tMicrosoft::Applications::Events::EventProperty::empty [0x00007FF7607DAA79+1090777]\n\tMicrosoft::Applications::Events::ILogConfiguration::operator* [0x00007FF7605E0C81+461569]\n\tMicrosoft::Applications::Events::ILogConfiguration::operator* [0x00007FF7605DC9A4+444452]\n\tMicrosoft::Applications::Events::ILogConfiguration::operator* [0x00007FF7605DCAE9+444777]\n\tMicrosoft::Applications::Events::ILogConfiguration::operator* [0x00007FF7605D2166+401382]\n\tBaseThreadInitThunk [0x00007FF995F6259D+29]\n\tRtlUserThreadStart [0x00007FF9971CAF38+40]\n",
     "output_type": "error",
     "traceback": [
      "\u001b[1;31m---------------------------------------------------------------------------\u001b[0m",
      "\u001b[1;31mStaleElementReferenceException\u001b[0m            Traceback (most recent call last)",
      "Cell \u001b[1;32mIn[180], line 36\u001b[0m\n\u001b[0;32m     33\u001b[0m         post_list \u001b[38;5;241m=\u001b[39m post_list_new \n\u001b[0;32m     35\u001b[0m \u001b[38;5;66;03m# Scroll to post\u001b[39;00m\n\u001b[1;32m---> 36\u001b[0m \u001b[43mscroll_to_post\u001b[49m\u001b[43m(\u001b[49m\u001b[43mpost_list\u001b[49m\u001b[43m[\u001b[49m\u001b[43mindex\u001b[49m\u001b[43m]\u001b[49m\u001b[43m,\u001b[49m\u001b[43m \u001b[49m\u001b[38;5;241;43m1\u001b[39;49m\u001b[43m)\u001b[49m\n\u001b[0;32m     38\u001b[0m \u001b[38;5;66;03m# Main\u001b[39;00m\n\u001b[0;32m     40\u001b[0m \u001b[38;5;28;01mtry\u001b[39;00m: \u001b[38;5;66;03m# Post normal \u001b[39;00m\n",
      "Cell \u001b[1;32mIn[162], line 2\u001b[0m, in \u001b[0;36mscroll_to_post\u001b[1;34m(post, time)\u001b[0m\n\u001b[0;32m      1\u001b[0m \u001b[38;5;28;01mdef\u001b[39;00m \u001b[38;5;21mscroll_to_post\u001b[39m(post, time):\n\u001b[1;32m----> 2\u001b[0m     \u001b[43mdriver\u001b[49m\u001b[38;5;241;43m.\u001b[39;49m\u001b[43mexecute_script\u001b[49m\u001b[43m(\u001b[49m\u001b[38;5;124;43m\"\u001b[39;49m\u001b[38;5;124;43marguments[0].scrollIntoView(\u001b[39;49m\u001b[38;5;124;43m{\u001b[39;49m\u001b[38;5;124;43mbehavior: \u001b[39;49m\u001b[38;5;124;43m'\u001b[39;49m\u001b[38;5;124;43msmooth\u001b[39;49m\u001b[38;5;124;43m'\u001b[39;49m\u001b[38;5;124;43m, block: \u001b[39;49m\u001b[38;5;124;43m'\u001b[39;49m\u001b[38;5;124;43mcenter\u001b[39;49m\u001b[38;5;124;43m'\u001b[39;49m\u001b[38;5;124;43m});\u001b[39;49m\u001b[38;5;124;43m\"\u001b[39;49m\u001b[43m,\u001b[49m\u001b[43m \u001b[49m\u001b[43mpost\u001b[49m\u001b[43m)\u001b[49m\n\u001b[0;32m      3\u001b[0m     sleep(time)\n",
      "File \u001b[1;32m~\\AppData\\Roaming\\Python\\Python311\\site-packages\\selenium\\webdriver\\remote\\webdriver.py:414\u001b[0m, in \u001b[0;36mWebDriver.execute_script\u001b[1;34m(self, script, *args)\u001b[0m\n\u001b[0;32m    411\u001b[0m converted_args \u001b[38;5;241m=\u001b[39m \u001b[38;5;28mlist\u001b[39m(args)\n\u001b[0;32m    412\u001b[0m command \u001b[38;5;241m=\u001b[39m Command\u001b[38;5;241m.\u001b[39mW3C_EXECUTE_SCRIPT\n\u001b[1;32m--> 414\u001b[0m \u001b[38;5;28;01mreturn\u001b[39;00m \u001b[38;5;28;43mself\u001b[39;49m\u001b[38;5;241;43m.\u001b[39;49m\u001b[43mexecute\u001b[49m\u001b[43m(\u001b[49m\u001b[43mcommand\u001b[49m\u001b[43m,\u001b[49m\u001b[43m \u001b[49m\u001b[43m{\u001b[49m\u001b[38;5;124;43m\"\u001b[39;49m\u001b[38;5;124;43mscript\u001b[39;49m\u001b[38;5;124;43m\"\u001b[39;49m\u001b[43m:\u001b[49m\u001b[43m \u001b[49m\u001b[43mscript\u001b[49m\u001b[43m,\u001b[49m\u001b[43m \u001b[49m\u001b[38;5;124;43m\"\u001b[39;49m\u001b[38;5;124;43margs\u001b[39;49m\u001b[38;5;124;43m\"\u001b[39;49m\u001b[43m:\u001b[49m\u001b[43m \u001b[49m\u001b[43mconverted_args\u001b[49m\u001b[43m}\u001b[49m\u001b[43m)\u001b[49m[\u001b[38;5;124m\"\u001b[39m\u001b[38;5;124mvalue\u001b[39m\u001b[38;5;124m\"\u001b[39m]\n",
      "File \u001b[1;32m~\\AppData\\Roaming\\Python\\Python311\\site-packages\\selenium\\webdriver\\remote\\webdriver.py:354\u001b[0m, in \u001b[0;36mWebDriver.execute\u001b[1;34m(self, driver_command, params)\u001b[0m\n\u001b[0;32m    352\u001b[0m response \u001b[38;5;241m=\u001b[39m \u001b[38;5;28mself\u001b[39m\u001b[38;5;241m.\u001b[39mcommand_executor\u001b[38;5;241m.\u001b[39mexecute(driver_command, params)\n\u001b[0;32m    353\u001b[0m \u001b[38;5;28;01mif\u001b[39;00m response:\n\u001b[1;32m--> 354\u001b[0m     \u001b[38;5;28;43mself\u001b[39;49m\u001b[38;5;241;43m.\u001b[39;49m\u001b[43merror_handler\u001b[49m\u001b[38;5;241;43m.\u001b[39;49m\u001b[43mcheck_response\u001b[49m\u001b[43m(\u001b[49m\u001b[43mresponse\u001b[49m\u001b[43m)\u001b[49m\n\u001b[0;32m    355\u001b[0m     response[\u001b[38;5;124m\"\u001b[39m\u001b[38;5;124mvalue\u001b[39m\u001b[38;5;124m\"\u001b[39m] \u001b[38;5;241m=\u001b[39m \u001b[38;5;28mself\u001b[39m\u001b[38;5;241m.\u001b[39m_unwrap_value(response\u001b[38;5;241m.\u001b[39mget(\u001b[38;5;124m\"\u001b[39m\u001b[38;5;124mvalue\u001b[39m\u001b[38;5;124m\"\u001b[39m, \u001b[38;5;28;01mNone\u001b[39;00m))\n\u001b[0;32m    356\u001b[0m     \u001b[38;5;28;01mreturn\u001b[39;00m response\n",
      "File \u001b[1;32m~\\AppData\\Roaming\\Python\\Python311\\site-packages\\selenium\\webdriver\\remote\\errorhandler.py:229\u001b[0m, in \u001b[0;36mErrorHandler.check_response\u001b[1;34m(self, response)\u001b[0m\n\u001b[0;32m    227\u001b[0m         alert_text \u001b[38;5;241m=\u001b[39m value[\u001b[38;5;124m\"\u001b[39m\u001b[38;5;124malert\u001b[39m\u001b[38;5;124m\"\u001b[39m]\u001b[38;5;241m.\u001b[39mget(\u001b[38;5;124m\"\u001b[39m\u001b[38;5;124mtext\u001b[39m\u001b[38;5;124m\"\u001b[39m)\n\u001b[0;32m    228\u001b[0m     \u001b[38;5;28;01mraise\u001b[39;00m exception_class(message, screen, stacktrace, alert_text)  \u001b[38;5;66;03m# type: ignore[call-arg]  # mypy is not smart enough here\u001b[39;00m\n\u001b[1;32m--> 229\u001b[0m \u001b[38;5;28;01mraise\u001b[39;00m exception_class(message, screen, stacktrace)\n",
      "\u001b[1;31mStaleElementReferenceException\u001b[0m: Message: stale element reference: stale element not found in the current frame\n  (Session info: MicrosoftEdge=131.0.2903.51); For documentation on this error, please visit: https://www.selenium.dev/documentation/webdriver/troubleshooting/errors#stale-element-reference-exception\nStacktrace:\n\t(No symbol) [0x00007FF760506B05]\n\tMicrosoft::Applications::Events::EventProperty::empty [0x00007FF76082F444+1437348]\n\tsqlite3_dbdata_init [0x00007FF7608D2D86+643190]\n\t(No symbol) [0x00007FF7603EAD3C]\n\t(No symbol) [0x00007FF7603ED6B3]\n\t(No symbol) [0x00007FF760467846]\n\t(No symbol) [0x00007FF76044C19A]\n\t(No symbol) [0x00007FF760423437]\n\t(No symbol) [0x00007FF760466BFF]\n\t(No symbol) [0x00007FF76044BE03]\n\t(No symbol) [0x00007FF760422984]\n\t(No symbol) [0x00007FF760421E30]\n\t(No symbol) [0x00007FF760422571]\n\tMicrosoft::Applications::Events::EventProperty::empty [0x00007FF7607DBAD4+1094964]\n\t(No symbol) [0x00007FF7605432B8]\n\tMicrosoft::Applications::Events::EventProperty::empty [0x00007FF7607DAF13+1091955]\n\tMicrosoft::Applications::Events::EventProperty::empty [0x00007FF7607DAA79+1090777]\n\tMicrosoft::Applications::Events::ILogConfiguration::operator* [0x00007FF7605E0C81+461569]\n\tMicrosoft::Applications::Events::ILogConfiguration::operator* [0x00007FF7605DC9A4+444452]\n\tMicrosoft::Applications::Events::ILogConfiguration::operator* [0x00007FF7605DCAE9+444777]\n\tMicrosoft::Applications::Events::ILogConfiguration::operator* [0x00007FF7605D2166+401382]\n\tBaseThreadInitThunk [0x00007FF995F6259D+29]\n\tRtlUserThreadStart [0x00007FF9971CAF38+40]\n"
     ]
    }
   ],
   "source": [
    "driver.execute_script(\"document.body.style.zoom='50%'\")\n",
    "saveOrCreate(None, None) # Tạo csv\n",
    "index = 742\n",
    "post_list = driver.find_elements(By.CSS_SELECTOR, '[role=\"feed\"] .x1yztbdb.x1n2onr6.xh8yej3.x1ja2u2z')\n",
    "prev_result = get_first_post()\n",
    "if prev_result is None: # Chưa crawl\n",
    "    print('Đây là lần đầu tiên crawl group này')\n",
    "\n",
    "while True:\n",
    "    # Lưu kết quả sau mỗi vòng lặp\n",
    "    post_data_normal = {}\n",
    "    post_data_reel = {} \n",
    "    \n",
    "    # Tắt cảnh báo\n",
    "    try:\n",
    "        close = driver.find_element(By.XPATH,'//*[@id=\"facebook\"]/body/div[6]/div[1]/div/div[2]/div/div/div/div/div/div/div[1]/div/div[3]')\n",
    "        close.click()\n",
    "        sleep(5)\n",
    "    except NoSuchElementException: \n",
    "        pass  \n",
    "    \n",
    "    # Scroll mỗi khi crawl hết trong danh sách có sẵn\n",
    "    if index >= len(post_list):  \n",
    "        scroll()\n",
    "        sleep(4)\n",
    "        post_list_new = driver.find_elements(By.CSS_SELECTOR, '[role=\"feed\"] .x1yztbdb.x1n2onr6.xh8yej3.x1ja2u2z')\n",
    "        if len(post_list_new) == len(post_list):\n",
    "            print()\n",
    "            print('Thu thập được:',len(post_list),'bài đăng')\n",
    "            check = True\n",
    "            break \n",
    "        else:\n",
    "            post_list = post_list_new \n",
    "        \n",
    "    # Scroll to post\n",
    "    scroll_to_post(post_list[index], 1)\n",
    "\n",
    "    # Main\n",
    "\n",
    "    try: # Post normal \n",
    "        print(f\"Đã scroll tới bài đăng số {index + 1}:\")\n",
    "        print('post normal')\n",
    "        \n",
    "        # Lấy Xpath của bài post \n",
    "        main  = post_list[index].find_element(By.XPATH,'./div/div/div/div/div/div/div/div/div/div[13]/div/div')\n",
    "        \n",
    "        # Chia nhỏ Xpath thành 3 phần\n",
    "        info_box  = main.find_element(By.XPATH,'./div[2]')            \n",
    "        content_box = main.find_element(By.XPATH,'./div[3]')\n",
    "        react_cmt_box = main.find_element(By.XPATH,'./div[4]')\n",
    "        \n",
    "        # Lấy thông tin người đăng\n",
    "        user_link, user_name, time_post, role = extractInfo(info_box)\n",
    "        \n",
    "        # Lấy thông tin bài đăng\n",
    "        main_content, content_img_post = extractContent(content_box)\n",
    "        \n",
    "        # Lấy thông tin lượt người thả cảm xúc\n",
    "        react_list = extractReact(react_cmt_box)\n",
    "        \n",
    "        # Lấy thông tin comment của bài đăng\n",
    "        try:\n",
    "            post_data_cmt = extractComment(react_cmt_box, None)\n",
    "\n",
    "        except:\n",
    "            post_data_cmt = debug_cmt(react_cmt_box) \n",
    "\n",
    "\n",
    "        # Lưu thông tin toàn bộ bài post \n",
    "        post_data_normal = {\n",
    "            'index': index + 1,\n",
    "            'linkPoster': user_link if user_name != 'Người tham gia ẩn danh' else 'No link',\n",
    "            'name': user_name,\n",
    "            'role': role if role else 'Thành viên',\n",
    "            'time': time_post,\n",
    "            'content': main_content if main_content else 'No content',\n",
    "            'content_img': content_img_post if content_img_post else 'No picture',\n",
    "            'react_list': react_list,\n",
    "            'comment': post_data_cmt if post_data_cmt else 'No comment'\n",
    "        }\n",
    "        print(post_data_normal)\n",
    "        index += 1\n",
    "    except NoSuchElementException: # video\n",
    "        print(f\"Đã scroll tới bài đăng số {index + 1}:\")\n",
    "        print('post video')\n",
    "        \n",
    "        # Lấy ra Xpath cuả bài post\n",
    "        main = post_list[index].find_element(By.XPATH,'./div/div/div/div/div/div/div/div/div/div[13]/div/div')\n",
    "        content_box = main.find_element(By.XPATH,'./div[2]')\n",
    "        \n",
    "        # Thông tin bài post\n",
    "        link = content_box.find_element(By.CSS_SELECTOR, 'a')\n",
    "        href = link.get_attribute('href')\n",
    "        \n",
    "        box = link.find_element(By.XPATH,'./div[1]/div[3]/div/div/div[1]/div/div/div/div/div/div[2]/span/span')\n",
    "        \n",
    "        linkPoster = box.find_element(By.CSS_SELECTOR,'a').get_attribute('href')\n",
    "        \n",
    "        box = box.text.split('·')\n",
    "        typeVideo = box[0].replace('\\n', '').strip()\n",
    "        name = box[1].replace('\\n', '').strip()\n",
    "        time = box[2].replace('\\n', '').strip()\n",
    "        \n",
    "        # Lấy ra nội dung bài post\n",
    "        try: # Có nội dung\n",
    "            main_content = link.find_element(By.XPATH,'./div[1]/div[2]/div/div/div[2]/span/div')\n",
    "            try: \n",
    "                more_content = main_content.find_element(By.CSS_SELECTOR, 'div[role=\"button\"]')\n",
    "                if more_content.text.strip() == 'Xem thêm': \n",
    "                    scroll_to_post(more_content, 0)\n",
    "                    more_content.click()\n",
    "            except NoSuchElementException: \n",
    "                pass\n",
    "            main_content = link.find_element(By.XPATH, './div[1]/div[2]/div/div/div[2]/span/div').text\n",
    "        except NoSuchElementException: # Không có nội dung\n",
    "            main_content = None\n",
    "        \n",
    "        # Lưu thông tin bài post\n",
    "        post_data_reel = {\n",
    "            'index': index + 1,\n",
    "            'linkPoster': linkPoster,\n",
    "            'name': name,\n",
    "            'time': time,\n",
    "            'content': main_content if main_content else 'No content',\n",
    "            'linkVideo': href,\n",
    "            'typeVideo': typeVideo,\n",
    "        }\n",
    "        \n",
    "        index += 1\n",
    "        print(post_data_reel)\n",
    "    # Kiểm tra trước đó đã crawl url này hay chưa\n",
    "    if prev_result is not None: # Đã crawl\n",
    "        #Tới được bài đăng đầu tiên của đợt crawl trước\n",
    "        if prev_result.get('content') == post_data_normal.get('content') and prev_result.get('name') == post_data_normal.get('name'): \n",
    "            print('Đã tới bài post đầu tiên của lần crawl trước đó') \n",
    "            break\n",
    "        #Tới được bài đăng đầu tiên của đợt crawl trước\n",
    "        if prev_result.get('content') == post_data_reel.get('content') and prev_result.get('name') == post_data_reel.get('name'):  \n",
    "            print('Đã tới bài post đầu tiên của lần crawl trước đó') \n",
    "            break\n",
    "    # Thêm kết quả vào danh sách\n",
    "    if post_data_normal:  \n",
    "        result_post_normal.append(post_data_normal)\n",
    "    if post_data_reel:\n",
    "        result_post_reel.append(post_data_reel)\n",
    "    close_popup_cmt()\n",
    "    sleep(3)\n",
    "print('Crawl thành công')\n"
   ]
  },
  {
   "cell_type": "markdown",
   "metadata": {},
   "source": [
    "## Save"
   ]
  },
  {
   "cell_type": "code",
   "execution_count": 117,
   "metadata": {},
   "outputs": [
    {
     "name": "stdout",
     "output_type": "stream",
     "text": [
      "Save thành công\n"
     ]
    }
   ],
   "source": [
    "saveOrCreate(result_post_normal, result_post_reel)\n",
    "print('Save thành công')"
   ]
  },
  {
   "cell_type": "code",
   "execution_count": 118,
   "metadata": {},
   "outputs": [
    {
     "name": "stdout",
     "output_type": "stream",
     "text": [
      "index                                                          1\n",
      "linkPoster                                               No link\n",
      "name                                      Người tham gia ẩn danh\n",
      "role                                                  Thành viên\n",
      "time                                                       5 giờ\n",
      "content        Mình học rồi nên share lại khoá sau\\n- TOEIC c...\n",
      "content_img    {0: 'https://scontent.fdad3-6.fna.fbcdn.net/v/...\n",
      "react_list     {'Thích': '2', 'Yêu thích': '1', 'Thương thươn...\n",
      "comment        [{'name': 'Nguyễn Thy', 'content': 'Ib e ạ'}, ...\n",
      "Name: 0, dtype: object\n"
     ]
    }
   ],
   "source": [
    "prev_result = get_first_post()\n",
    "print (prev_result)"
   ]
  }
 ],
 "metadata": {
  "kernelspec": {
   "display_name": "Python 3",
   "language": "python",
   "name": "python3"
  },
  "language_info": {
   "codemirror_mode": {
    "name": "ipython",
    "version": 3
   },
   "file_extension": ".py",
   "mimetype": "text/x-python",
   "name": "python",
   "nbconvert_exporter": "python",
   "pygments_lexer": "ipython3",
   "version": "3.11.4"
  }
 },
 "nbformat": 4,
 "nbformat_minor": 2
}
